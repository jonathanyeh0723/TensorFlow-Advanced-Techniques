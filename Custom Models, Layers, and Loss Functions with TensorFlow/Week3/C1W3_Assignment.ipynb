{
 "cells": [
  {
   "cell_type": "markdown",
   "metadata": {},
   "source": [
    "# Week 3 Assignment: Implement a Quadratic Layer"
   ]
  },
  {
   "cell_type": "markdown",
   "metadata": {},
   "source": [
    "In this week's programming exercise, you will build a custom quadratic layer which computes $y = ax^2 + bx + c$. Similar to the ungraded lab, this layer will be plugged into a model that will be trained on the MNIST dataset. Let's get started!"
   ]
  },
  {
   "cell_type": "markdown",
   "metadata": {},
   "source": [
    "### Imports"
   ]
  },
  {
   "cell_type": "code",
   "execution_count": 1,
   "metadata": {},
   "outputs": [],
   "source": [
    "import tensorflow as tf\n",
    "from tensorflow.keras.layers import Layer\n",
    "\n",
    "import utils"
   ]
  },
  {
   "cell_type": "markdown",
   "metadata": {},
   "source": [
    "### Define the quadratic layer (TODO)\n",
    "Implement a simple quadratic layer. It has 3 state variables: $a$, $b$ and $c$. The computation returned is $ax^2 + bx + c$. Make sure it can also accept an activation function.\n",
    "\n",
    "#### `__init__`\n",
    "- call `super(my_fun, self)` to access the base class of `my_fun`, and call the `__init__()` function to initialize that base class.  In this case, `my_fun` is `SimpleQuadratic` and its base class is `Layer`.\n",
    "- self.units: set this using one of the function parameters.\n",
    "- self.activation: The function parameter `activation` will be passed in as a string.  To get the tensorflow object associated with the string, please use `tf.keras.activations.get()` \n",
    "\n",
    "\n",
    "#### `build`\n",
    "The following are suggested steps for writing your code.  If you prefer to use fewer lines to implement it, feel free to do so.  Either way, you'll want to set `self.a`, `self.b` and `self.c`.\n",
    "\n",
    "- a_init: set this to tensorflow's `random_normal_initializer()`\n",
    "- a_init_val: Use the `random_normal_initializer()` that you just created and invoke it, setting the `shape` and `dtype`.\n",
    "    - The `shape` of `a` should have its row dimension equal to the last dimension of `input_shape`, and its column dimension equal to the number of units in the layer.  \n",
    "    - This is because you'll be matrix multiplying x^2 * a, so the dimensions should be compatible.\n",
    "    - set the dtype to 'float32'\n",
    "- self.a: create a tensor using tf.Variable, setting the initial_value and set trainable to True.\n",
    "\n",
    "- b_init, b_init_val, and self.b: these will be set in the same way that you implemented a_init, a_init_val and self.a\n",
    "- c_init: set this to `tf.zeros_initializer`.\n",
    "- c_init_val: Set this by calling the tf.zeros_initializer that you just instantiated, and set the `shape` and `dtype`\n",
    "  - shape: This will be a vector equal to the number of units.  This expects a tuple, and remember that a tuple `(9,)` includes a comma.\n",
    "  - dtype: set to 'float32'.\n",
    "- self.c: create a tensor using tf.Variable, and set the parameters `initial_value` and `trainable`.\n",
    "\n",
    "#### `call`\n",
    "The following section performs the multiplication x^2*a + x*b + c.  The steps are broken down for clarity, but you can also perform this calculation in fewer lines if you prefer.\n",
    "- x_squared: use tf.math.square()\n",
    "- x_squared_times_a: use tf.matmul().  \n",
    "  - If you see an error saying `InvalidArgumentError: Matrix size-incompatible`, please check the order of the matrix multiplication to make sure that the matrix dimensions line up.\n",
    "- x_times_b: use tf.matmul().\n",
    "- x2a_plus_xb_plus_c: add the three terms together.\n",
    "- activated_x2a_plus_xb_plus_c: apply the class's `activation` to the sum of the three terms.\n"
   ]
  },
  {
   "cell_type": "code",
   "execution_count": 2,
   "metadata": {},
   "outputs": [],
   "source": [
    "# Please uncomment all lines in this cell and replace those marked with `# YOUR CODE HERE`.\n",
    "# You can select all lines in this code cell with Ctrl+A (Windows/Linux) or Cmd+A (Mac), then press Ctrl+/ (Windows/Linux) or Cmd+/ (Mac) to uncomment.\n",
    "\n",
    "\n",
    "\n",
    "class SimpleQuadratic(Layer):\n",
    "\n",
    "    def __init__(self, units=32, activation=None):\n",
    "        '''Initializes the class and sets up the internal variables'''\n",
    "        # YOUR CODE HERE\n",
    "        super(SimpleQuadratic, self).__init__()\n",
    "        self.units = units\n",
    "        \n",
    "        self.activation = tf.keras.activations.get(activation)\n",
    "    \n",
    "    def build(self, input_shape):\n",
    "        '''Create the state of the layer (weights)'''\n",
    "        # a and b should be initialized with random normal, c (or the bias) with zeros.\n",
    "        # remember to set these as trainable.\n",
    "        # YOUR CODE HERE\n",
    "        a_init = tf.random_normal_initializer()\n",
    "        self.a = tf.Variable(name = \"a\",\n",
    "                             initial_value = a_init(shape = (input_shape[-1], self.units), dtype = 'float32'), \n",
    "                             trainable = True)\n",
    "        \n",
    "        b_init = tf.random_normal_initializer()\n",
    "        self.b = tf.Variable(name = \"b\", \n",
    "                             initial_value = b_init(shape = (input_shape[-1], self.units), dtype = 'float32'),\n",
    "                             trainable = True)\n",
    "        \n",
    "        c_init = tf.zeros_initializer()\n",
    "        self.c = tf.Variable(name = \"c\",\n",
    "                             initial_value = c_init(shape = (self.units, ), dtype = 'float32'),\n",
    "                             trainable = False)\n",
    "        \n",
    "        super().build(input_shape)\n",
    "   \n",
    "    def call(self, inputs):\n",
    "        '''Defines the computation from inputs to outputs'''\n",
    "        # YOUR CODE HERE\n",
    "        x_squared = tf.math.square(inputs)\n",
    "        x_squared_times_a = tf.matmul(x_squared, self.a)\n",
    "        \n",
    "        x_times_b = tf.matmul(inputs, self.b)\n",
    "        \n",
    "        c = self.c\n",
    "        \n",
    "        x2a_plus_xb_plus_c = x_squared_times_a + x_times_b + c\n",
    "        \n",
    "        return self.activation(x2a_plus_xb_plus_c)"
   ]
  },
  {
   "cell_type": "markdown",
   "metadata": {},
   "source": [
    "Test your implementation"
   ]
  },
  {
   "cell_type": "code",
   "execution_count": 3,
   "metadata": {},
   "outputs": [
    {
     "name": "stdout",
     "output_type": "stream",
     "text": [
      "\u001b[92m All public tests passed\n"
     ]
    }
   ],
   "source": [
    "utils.test_simple_quadratic(SimpleQuadratic)\n"
   ]
  },
  {
   "cell_type": "markdown",
   "metadata": {},
   "source": [
    "Train your model with the `SimpleQuadratic` layer that you just implemented."
   ]
  },
  {
   "cell_type": "code",
   "execution_count": 4,
   "metadata": {},
   "outputs": [
    {
     "name": "stdout",
     "output_type": "stream",
     "text": [
      "Epoch 1/5\n",
      "1875/1875 [==============================] - 3s 2ms/step - loss: 0.2736 - accuracy: 0.9194\n",
      "Epoch 2/5\n",
      "1875/1875 [==============================] - 4s 2ms/step - loss: 0.1335 - accuracy: 0.9603\n",
      "Epoch 3/5\n",
      "1875/1875 [==============================] - 5s 2ms/step - loss: 0.1010 - accuracy: 0.9690\n",
      "Epoch 4/5\n",
      "1875/1875 [==============================] - 4s 2ms/step - loss: 0.0835 - accuracy: 0.9733\n",
      "Epoch 5/5\n",
      "1875/1875 [==============================] - 4s 2ms/step - loss: 0.0704 - accuracy: 0.9774\n",
      "313/313 [==============================] - 0s 1ms/step - loss: 0.0707 - accuracy: 0.9784\n"
     ]
    },
    {
     "data": {
      "text/plain": [
       "[0.07070034742355347, 0.9783999919891357]"
      ]
     },
     "execution_count": 4,
     "metadata": {},
     "output_type": "execute_result"
    }
   ],
   "source": [
    "# THIS CODE SHOULD RUN WITHOUT MODIFICATION\n",
    "# AND SHOULD RETURN TRAINING/TESTING ACCURACY at 97%+\n",
    "\n",
    "mnist = tf.keras.datasets.mnist\n",
    "\n",
    "(x_train, y_train),(x_test, y_test) = mnist.load_data()\n",
    "x_train, x_test = x_train / 255.0, x_test / 255.0\n",
    "\n",
    "model = tf.keras.models.Sequential([\n",
    "  tf.keras.layers.Flatten(input_shape=(28, 28)),\n",
    "  SimpleQuadratic(128, activation='relu'),\n",
    "  tf.keras.layers.Dropout(0.2),\n",
    "  tf.keras.layers.Dense(10, activation='softmax')\n",
    "])\n",
    "\n",
    "model.compile(optimizer='adam',\n",
    "              loss='sparse_categorical_crossentropy',\n",
    "              metrics=['accuracy'])\n",
    "\n",
    "model.fit(x_train, y_train, epochs=5)\n",
    "model.evaluate(x_test, y_test)"
   ]
  },
  {
   "cell_type": "code",
   "execution_count": null,
   "metadata": {},
   "outputs": [],
   "source": []
  }
 ],
 "metadata": {
  "kernelspec": {
   "display_name": "Python 3",
   "language": "python",
   "name": "python3"
  },
  "language_info": {
   "codemirror_mode": {
    "name": "ipython",
    "version": 3
   },
   "file_extension": ".py",
   "mimetype": "text/x-python",
   "name": "python",
   "nbconvert_exporter": "python",
   "pygments_lexer": "ipython3",
   "version": "3.8.3"
  }
 },
 "nbformat": 4,
 "nbformat_minor": 4
}
