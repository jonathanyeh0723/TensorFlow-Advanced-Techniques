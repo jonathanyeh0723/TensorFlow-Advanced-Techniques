{
 "cells": [
  {
   "cell_type": "markdown",
   "metadata": {},
   "source": [
    "# Week 1: Multiple Output Models using the Keras Functional API\n",
    "\n",
    "Welcome to the first programming assignment of the course! Your task will be to use the Keras functional API to train a model to predict two outputs. For this lab, you will use the **[Wine Quality Dataset](https://archive.ics.uci.edu/ml/datasets/Wine+Quality)** from the **UCI machine learning repository**. It has separate datasets for red wine and white wine.\n",
    "\n",
    "Normally, the wines are classified into one of the quality ratings specified in the attributes. In this exercise, you will combine the two datasets to predict the wine quality and whether the wine is red or white solely from the attributes. \n",
    "\n",
    "You will model wine quality estimations as a regression problem and wine type detection as a binary classification problem.\n",
    "\n",
    "#### Please complete sections that are marked **(TODO)**"
   ]
  },
  {
   "cell_type": "markdown",
   "metadata": {},
   "source": [
    "## Imports"
   ]
  },
  {
   "cell_type": "code",
   "execution_count": 40,
   "metadata": {},
   "outputs": [],
   "source": [
    "import tensorflow as tf\n",
    "from tensorflow.keras.models import Model\n",
    "from tensorflow.keras.layers import Dense, Input\n",
    "\n",
    "import numpy as np\n",
    "import matplotlib.pyplot as plt\n",
    "import pandas as pd\n",
    "from sklearn.model_selection import train_test_split\n",
    "from sklearn.metrics import confusion_matrix\n",
    "import itertools\n",
    "\n",
    "import utils"
   ]
  },
  {
   "cell_type": "markdown",
   "metadata": {},
   "source": [
    "## Load Dataset\n",
    "\n",
    "\n",
    "You will now download the dataset from the [UCI Machine Learning Repository](https://archive.ics.uci.edu/ml/index.php). \n",
    "\n",
    "### Pre-process the white wine dataset (TODO)\n",
    "You will add a new column named `is_red` in your dataframe to indicate if the wine is white or red. \n",
    "- In the white wine dataset, you will fill the column `is_red` with  zeros (0)."
   ]
  },
  {
   "cell_type": "code",
   "execution_count": 41,
   "metadata": {},
   "outputs": [],
   "source": [
    "# Please uncomment all lines in this cell and replace those marked with `# YOUR CODE HERE`.\n",
    "# You can select all lines in this code cell with Ctrl+A (Windows/Linux) or Cmd+A (Mac), then press Ctrl+/ (Windows/Linux) or Cmd+/ (Mac) to uncomment.\n",
    "\n",
    "\n",
    "\n",
    "# URL of the white wine dataset\n",
    "URL = 'http://archive.ics.uci.edu/ml/machine-learning-databases/wine-quality/winequality-white.csv'\n",
    "\n",
    "# load the dataset from the URL\n",
    "white_df = pd.read_csv(URL, sep=\";\")\n",
    "\n",
    "# fill the `is_red` column with zeros.\n",
    "white_df[\"is_red\"] = 0 # YOUR CODE HERE\n",
    "\n",
    "# keep only the first of duplicate items\n",
    "white_df = white_df.drop_duplicates(keep='first')\n"
   ]
  },
  {
   "cell_type": "code",
   "execution_count": 42,
   "metadata": {},
   "outputs": [
    {
     "name": "stdout",
     "output_type": "stream",
     "text": [
      "\u001b[92m All public tests passed\n"
     ]
    }
   ],
   "source": [
    "# You can click `File -> Open` in the menu above and open the `utils.py` file \n",
    "# in case you want to inspect the unit tests being used for each graded function.\n",
    "\n",
    "utils.test_white_df(white_df)\n"
   ]
  },
  {
   "cell_type": "code",
   "execution_count": 43,
   "metadata": {},
   "outputs": [
    {
     "name": "stdout",
     "output_type": "stream",
     "text": [
      "8.8\n",
      "9.1\n"
     ]
    }
   ],
   "source": [
    "print(white_df.alcohol[0])\n",
    "print(white_df.alcohol[100])\n",
    "\n",
    "# EXPECTED OUTPUT\n",
    "# 8.8\n",
    "# 9.1"
   ]
  },
  {
   "cell_type": "markdown",
   "metadata": {},
   "source": [
    "### Pre-process the red wine dataset (TODO)\n",
    "- In the red wine dataset, you will fill in the column `is_red` with ones (1)."
   ]
  },
  {
   "cell_type": "code",
   "execution_count": 44,
   "metadata": {},
   "outputs": [],
   "source": [
    "# Please uncomment all lines in this cell and replace those marked with `# YOUR CODE HERE`.\n",
    "# You can select all lines in this code cell with Ctrl+A (Windows/Linux) or Cmd+A (Mac), then press Ctrl+/ (Windows/Linux) or Cmd+/ (Mac) to uncomment.\n",
    "\n",
    "\n",
    "\n",
    "# URL of the red wine dataset\n",
    "URL = 'http://archive.ics.uci.edu/ml/machine-learning-databases/wine-quality/winequality-red.csv'\n",
    "\n",
    "# load the dataset from the URL\n",
    "red_df = pd.read_csv(URL, sep=\";\")\n",
    "\n",
    "# fill the `is_red` column with ones.\n",
    "red_df[\"is_red\"] = 1 # YOUR CODE HERE\n",
    "\n",
    "# keep only the first of duplicate items\n",
    "red_df = red_df.drop_duplicates(keep='first')\n"
   ]
  },
  {
   "cell_type": "code",
   "execution_count": 45,
   "metadata": {},
   "outputs": [
    {
     "name": "stdout",
     "output_type": "stream",
     "text": [
      "\u001b[92m All public tests passed\n"
     ]
    }
   ],
   "source": [
    "utils.test_red_df(red_df)\n"
   ]
  },
  {
   "cell_type": "code",
   "execution_count": 46,
   "metadata": {},
   "outputs": [
    {
     "name": "stdout",
     "output_type": "stream",
     "text": [
      "9.4\n",
      "10.2\n"
     ]
    }
   ],
   "source": [
    "print(red_df.alcohol[0])\n",
    "print(red_df.alcohol[100])\n",
    "\n",
    "# EXPECTED OUTPUT\n",
    "# 9.4\n",
    "# 10.2"
   ]
  },
  {
   "cell_type": "markdown",
   "metadata": {},
   "source": [
    "### Concatenate the datasets\n",
    "\n",
    "Next, concatenate the red and white wine dataframes."
   ]
  },
  {
   "cell_type": "code",
   "execution_count": 47,
   "metadata": {},
   "outputs": [],
   "source": [
    "df = pd.concat([red_df, white_df], ignore_index=True)"
   ]
  },
  {
   "cell_type": "code",
   "execution_count": 48,
   "metadata": {},
   "outputs": [
    {
     "name": "stdout",
     "output_type": "stream",
     "text": [
      "9.4\n",
      "9.5\n"
     ]
    }
   ],
   "source": [
    "print(df.alcohol[0])\n",
    "print(df.alcohol[100])\n",
    "\n",
    "# EXPECTED OUTPUT\n",
    "# 9.4\n",
    "# 9.5"
   ]
  },
  {
   "cell_type": "markdown",
   "metadata": {},
   "source": [
    "In a real-world scenario, you should shuffle the data. For this assignment however, **you are not** going to do that because the grader needs to test with deterministic data. If you want the code to do it **after** you've gotten your grade for this notebook, we left the commented line below for reference"
   ]
  },
  {
   "cell_type": "code",
   "execution_count": 49,
   "metadata": {},
   "outputs": [],
   "source": [
    "#df = df.iloc[np.random.permutation(len(df))]"
   ]
  },
  {
   "cell_type": "markdown",
   "metadata": {},
   "source": [
    "This will chart the quality of the wines."
   ]
  },
  {
   "cell_type": "code",
   "execution_count": 50,
   "metadata": {},
   "outputs": [
    {
     "data": {
      "image/png": "[encoded data removed]",
      "text/plain": [
       "<Figure size 432x288 with 1 Axes>"
      ]
     },
     "metadata": {
      "needs_background": "light"
     },
     "output_type": "display_data"
    }
   ],
   "source": [
    "df['quality'].hist(bins=20);"
   ]
  },
  {
   "cell_type": "markdown",
   "metadata": {},
   "source": [
    "### Imbalanced data (TODO)\n",
    "You can see from the plot above that the wine quality dataset is imbalanced. \n",
    "- Since there are very few observations with quality equal to 3, 4, 8 and 9, you can drop these observations from your dataset. \n",
    "- You can do this by removing data belonging to all classes except those > 4 and < 8."
   ]
  },
  {
   "cell_type": "code",
   "execution_count": 51,
   "metadata": {},
   "outputs": [],
   "source": [
    "# Please uncomment all lines in this cell and replace those marked with `# YOUR CODE HERE`.\n",
    "# You can select all lines in this code cell with Ctrl+A (Windows/Linux) or Cmd+A (Mac), then press Ctrl+/ (Windows/Linux) or Cmd+/ (Mac) to uncomment.\n",
    "\n",
    "\n",
    "\n",
    "# get data with wine quality greater than 4 and less than 8\n",
    "df = df[(df['quality'] > 4) & (df['quality'] < 8 )]\n",
    "\n",
    "# reset index and drop the old one\n",
    "df = df.reset_index(drop=True)"
   ]
  },
  {
   "cell_type": "code",
   "execution_count": 52,
   "metadata": {},
   "outputs": [
    {
     "name": "stdout",
     "output_type": "stream",
     "text": [
      "\u001b[92m All public tests passed\n"
     ]
    }
   ],
   "source": [
    "utils.test_df_drop(df)\n",
    "\n"
   ]
  },
  {
   "cell_type": "code",
   "execution_count": 53,
   "metadata": {},
   "outputs": [
    {
     "name": "stdout",
     "output_type": "stream",
     "text": [
      "9.4\n",
      "10.9\n"
     ]
    }
   ],
   "source": [
    "print(df.alcohol[0])\n",
    "print(df.alcohol[100])\n",
    "\n",
    "# EXPECTED OUTPUT\n",
    "# 9.4\n",
    "# 10.9"
   ]
  },
  {
   "cell_type": "markdown",
   "metadata": {},
   "source": [
    "You can plot again to see the new range of data and quality"
   ]
  },
  {
   "cell_type": "code",
   "execution_count": 54,
   "metadata": {},
   "outputs": [
    {
     "data": {
      "image/png": "[encoded data removed]",
      "text/plain": [
       "<Figure size 432x288 with 1 Axes>"
      ]
     },
     "metadata": {
      "needs_background": "light"
     },
     "output_type": "display_data"
    }
   ],
   "source": [
    "df['quality'].hist(bins=20);"
   ]
  },
  {
   "cell_type": "markdown",
   "metadata": {},
   "source": [
    "### Train Test Split (TODO)\n",
    "\n",
    "Next, you can split the datasets into training, test and validation datasets.\n",
    "- The data frame should be split 80:20 into `train` and `test` sets.\n",
    "- The resulting `train` should then be split 80:20 into `train` and `val` sets.\n",
    "- The `train_test_split` parameter `test_size` takes a float value that ranges between 0. and 1, and represents the proportion of the dataset that is allocated to the test set.  The rest of the data is allocated to the training set."
   ]
  },
  {
   "cell_type": "code",
   "execution_count": 55,
   "metadata": {},
   "outputs": [],
   "source": [
    "# Please uncomment all lines in this cell and replace those marked with `# YOUR CODE HERE`.\n",
    "# You can select all lines in this code cell with Ctrl+A (Windows/Linux) or Cmd+A (Mac), then press Ctrl+/ (Windows/Linux) or Cmd+/ (Mac) to uncomment.\n",
    "\n",
    "\n",
    "\n",
    "# Please do not change the random_state parameter. This is needed for grading.\n",
    "\n",
    "# split df into 80:20 train and test sets\n",
    "train, test = train_test_split(df, test_size = 0.2, random_state = 1)\n",
    "                               \n",
    "# split train into 80:20 train and val sets\n",
    "train, val = train_test_split(train, test_size = 0.2, random_state = 1)"
   ]
  },
  {
   "cell_type": "code",
   "execution_count": 56,
   "metadata": {},
   "outputs": [
    {
     "name": "stdout",
     "output_type": "stream",
     "text": [
      "\u001b[92m All public tests passed\n"
     ]
    }
   ],
   "source": [
    "utils.test_data_sizes(train.size, test.size, val.size)\n",
    "\n"
   ]
  },
  {
   "cell_type": "markdown",
   "metadata": {},
   "source": [
    "Here's where you can explore the training stats. You can pop the labels 'is_red' and 'quality' from the data as these will be used as the labels\n"
   ]
  },
  {
   "cell_type": "code",
   "execution_count": 57,
   "metadata": {},
   "outputs": [],
   "source": [
    "train_stats = train.describe()\n",
    "train_stats.pop('is_red')\n",
    "train_stats.pop('quality')\n",
    "train_stats = train_stats.transpose()"
   ]
  },
  {
   "cell_type": "markdown",
   "metadata": {},
   "source": [
    "Explore the training stats!"
   ]
  },
  {
   "cell_type": "code",
   "execution_count": 58,
   "metadata": {},
   "outputs": [
    {
     "data": {
      "text/html": [
       "<div>\n",
       "<style scoped>\n",
       "    .dataframe tbody tr th:only-of-type {\n",
       "        vertical-align: middle;\n",
       "    }\n",
       "\n",
       "    .dataframe tbody tr th {\n",
       "        vertical-align: top;\n",
       "    }\n",
       "\n",
       "    .dataframe thead th {\n",
       "        text-align: right;\n",
       "    }\n",
       "</style>\n",
       "<table border=\"1\" class=\"dataframe\">\n",
       "  <thead>\n",
       "    <tr style=\"text-align: right;\">\n",
       "      <th></th>\n",
       "      <th>count</th>\n",
       "      <th>mean</th>\n",
       "      <th>std</th>\n",
       "      <th>min</th>\n",
       "      <th>25%</th>\n",
       "      <th>50%</th>\n",
       "      <th>75%</th>\n",
       "      <th>max</th>\n",
       "    </tr>\n",
       "  </thead>\n",
       "  <tbody>\n",
       "    <tr>\n",
       "      <th>fixed acidity</th>\n",
       "      <td>3155.0</td>\n",
       "      <td>7.221616</td>\n",
       "      <td>1.325297</td>\n",
       "      <td>3.80000</td>\n",
       "      <td>6.40000</td>\n",
       "      <td>7.00000</td>\n",
       "      <td>7.7000</td>\n",
       "      <td>15.60000</td>\n",
       "    </tr>\n",
       "    <tr>\n",
       "      <th>volatile acidity</th>\n",
       "      <td>3155.0</td>\n",
       "      <td>0.338929</td>\n",
       "      <td>0.162476</td>\n",
       "      <td>0.08000</td>\n",
       "      <td>0.23000</td>\n",
       "      <td>0.29000</td>\n",
       "      <td>0.4000</td>\n",
       "      <td>1.24000</td>\n",
       "    </tr>\n",
       "    <tr>\n",
       "      <th>citric acid</th>\n",
       "      <td>3155.0</td>\n",
       "      <td>0.321569</td>\n",
       "      <td>0.147970</td>\n",
       "      <td>0.00000</td>\n",
       "      <td>0.25000</td>\n",
       "      <td>0.31000</td>\n",
       "      <td>0.4000</td>\n",
       "      <td>1.66000</td>\n",
       "    </tr>\n",
       "    <tr>\n",
       "      <th>residual sugar</th>\n",
       "      <td>3155.0</td>\n",
       "      <td>5.155911</td>\n",
       "      <td>4.639632</td>\n",
       "      <td>0.60000</td>\n",
       "      <td>1.80000</td>\n",
       "      <td>2.80000</td>\n",
       "      <td>7.6500</td>\n",
       "      <td>65.80000</td>\n",
       "    </tr>\n",
       "    <tr>\n",
       "      <th>chlorides</th>\n",
       "      <td>3155.0</td>\n",
       "      <td>0.056976</td>\n",
       "      <td>0.036802</td>\n",
       "      <td>0.01200</td>\n",
       "      <td>0.03800</td>\n",
       "      <td>0.04700</td>\n",
       "      <td>0.0660</td>\n",
       "      <td>0.61100</td>\n",
       "    </tr>\n",
       "    <tr>\n",
       "      <th>free sulfur dioxide</th>\n",
       "      <td>3155.0</td>\n",
       "      <td>30.388590</td>\n",
       "      <td>17.236784</td>\n",
       "      <td>1.00000</td>\n",
       "      <td>17.00000</td>\n",
       "      <td>28.00000</td>\n",
       "      <td>41.0000</td>\n",
       "      <td>131.00000</td>\n",
       "    </tr>\n",
       "    <tr>\n",
       "      <th>total sulfur dioxide</th>\n",
       "      <td>3155.0</td>\n",
       "      <td>115.062282</td>\n",
       "      <td>56.706617</td>\n",
       "      <td>6.00000</td>\n",
       "      <td>75.00000</td>\n",
       "      <td>117.00000</td>\n",
       "      <td>156.0000</td>\n",
       "      <td>344.00000</td>\n",
       "    </tr>\n",
       "    <tr>\n",
       "      <th>density</th>\n",
       "      <td>3155.0</td>\n",
       "      <td>0.994633</td>\n",
       "      <td>0.003005</td>\n",
       "      <td>0.98711</td>\n",
       "      <td>0.99232</td>\n",
       "      <td>0.99481</td>\n",
       "      <td>0.9968</td>\n",
       "      <td>1.03898</td>\n",
       "    </tr>\n",
       "    <tr>\n",
       "      <th>pH</th>\n",
       "      <td>3155.0</td>\n",
       "      <td>3.223201</td>\n",
       "      <td>0.161272</td>\n",
       "      <td>2.72000</td>\n",
       "      <td>3.11000</td>\n",
       "      <td>3.21000</td>\n",
       "      <td>3.3300</td>\n",
       "      <td>4.01000</td>\n",
       "    </tr>\n",
       "    <tr>\n",
       "      <th>sulphates</th>\n",
       "      <td>3155.0</td>\n",
       "      <td>0.534051</td>\n",
       "      <td>0.149149</td>\n",
       "      <td>0.22000</td>\n",
       "      <td>0.43000</td>\n",
       "      <td>0.51000</td>\n",
       "      <td>0.6000</td>\n",
       "      <td>1.95000</td>\n",
       "    </tr>\n",
       "    <tr>\n",
       "      <th>alcohol</th>\n",
       "      <td>3155.0</td>\n",
       "      <td>10.504466</td>\n",
       "      <td>1.154654</td>\n",
       "      <td>8.50000</td>\n",
       "      <td>9.50000</td>\n",
       "      <td>10.30000</td>\n",
       "      <td>11.3000</td>\n",
       "      <td>14.00000</td>\n",
       "    </tr>\n",
       "  </tbody>\n",
       "</table>\n",
       "</div>"
      ],
      "text/plain": [
       "                       count        mean        std      min       25%  \\\n",
       "fixed acidity         3155.0    7.221616   1.325297  3.80000   6.40000   \n",
       "volatile acidity      3155.0    0.338929   0.162476  0.08000   0.23000   \n",
       "citric acid           3155.0    0.321569   0.147970  0.00000   0.25000   \n",
       "residual sugar        3155.0    5.155911   4.639632  0.60000   1.80000   \n",
       "chlorides             3155.0    0.056976   0.036802  0.01200   0.03800   \n",
       "free sulfur dioxide   3155.0   30.388590  17.236784  1.00000  17.00000   \n",
       "total sulfur dioxide  3155.0  115.062282  56.706617  6.00000  75.00000   \n",
       "density               3155.0    0.994633   0.003005  0.98711   0.99232   \n",
       "pH                    3155.0    3.223201   0.161272  2.72000   3.11000   \n",
       "sulphates             3155.0    0.534051   0.149149  0.22000   0.43000   \n",
       "alcohol               3155.0   10.504466   1.154654  8.50000   9.50000   \n",
       "\n",
       "                            50%       75%        max  \n",
       "fixed acidity           7.00000    7.7000   15.60000  \n",
       "volatile acidity        0.29000    0.4000    1.24000  \n",
       "citric acid             0.31000    0.4000    1.66000  \n",
       "residual sugar          2.80000    7.6500   65.80000  \n",
       "chlorides               0.04700    0.0660    0.61100  \n",
       "free sulfur dioxide    28.00000   41.0000  131.00000  \n",
       "total sulfur dioxide  117.00000  156.0000  344.00000  \n",
       "density                 0.99481    0.9968    1.03898  \n",
       "pH                      3.21000    3.3300    4.01000  \n",
       "sulphates               0.51000    0.6000    1.95000  \n",
       "alcohol                10.30000   11.3000   14.00000  "
      ]
     },
     "execution_count": 58,
     "metadata": {},
     "output_type": "execute_result"
    }
   ],
   "source": [
    "train_stats"
   ]
  },
  {
   "cell_type": "markdown",
   "metadata": {},
   "source": [
    "### Get the labels (TODO)\n",
    "\n",
    "The features and labels are currently in the same dataframe.\n",
    "- You will want to store the label columns `is_red` and `quality` separately from the feature columns.  \n",
    "- The following function, `format_output`, gets these two columns from the dataframe (it's given to you).\n",
    "- `format_output` also formats the data into numpy arrays. \n",
    "- Please use the `format_output` and apply it to the `train`, `val` and `test` sets to get dataframes for the labels."
   ]
  },
  {
   "cell_type": "code",
   "execution_count": 59,
   "metadata": {},
   "outputs": [],
   "source": [
    "def format_output(data):\n",
    "    is_red = data.pop('is_red')\n",
    "    is_red = np.array(is_red)\n",
    "    quality = data.pop('quality')\n",
    "    quality = np.array(quality)\n",
    "    return (quality, is_red)"
   ]
  },
  {
   "cell_type": "code",
   "execution_count": 60,
   "metadata": {},
   "outputs": [],
   "source": [
    "# Please uncomment all lines in this cell and replace those marked with `# YOUR CODE HERE`.\n",
    "# You can select all lines in this code cell with Ctrl+A (Windows/Linux) or Cmd+A (Mac), then press Ctrl+/ (Windows/Linux) or Cmd+/ (Mac) to uncomment.\n",
    "\n",
    "\n",
    "\n",
    "# format the output of the train set\n",
    "train_Y = format_output(train)\n",
    "\n",
    "# format the output of the val set\n",
    "val_Y = format_output(val)\n",
    "    \n",
    "# format the output of the test set\n",
    "test_Y = format_output(test)"
   ]
  },
  {
   "cell_type": "code",
   "execution_count": 61,
   "metadata": {},
   "outputs": [
    {
     "name": "stdout",
     "output_type": "stream",
     "text": [
      "\u001b[92m All public tests passed\n"
     ]
    }
   ],
   "source": [
    "utils.test_format_output(df, train_Y, val_Y, test_Y)"
   ]
  },
  {
   "cell_type": "markdown",
   "metadata": {},
   "source": [
    "Notice that after you get the labels, the `train`, `val` and `test` dataframes no longer contain the label columns, and contain just the feature columns.\n",
    "- This is because you used `.pop` in the `format_output` function."
   ]
  },
  {
   "cell_type": "code",
   "execution_count": 62,
   "metadata": {},
   "outputs": [
    {
     "data": {
      "text/html": [
       "<div>\n",
       "<style scoped>\n",
       "    .dataframe tbody tr th:only-of-type {\n",
       "        vertical-align: middle;\n",
       "    }\n",
       "\n",
       "    .dataframe tbody tr th {\n",
       "        vertical-align: top;\n",
       "    }\n",
       "\n",
       "    .dataframe thead th {\n",
       "        text-align: right;\n",
       "    }\n",
       "</style>\n",
       "<table border=\"1\" class=\"dataframe\">\n",
       "  <thead>\n",
       "    <tr style=\"text-align: right;\">\n",
       "      <th></th>\n",
       "      <th>fixed acidity</th>\n",
       "      <th>volatile acidity</th>\n",
       "      <th>citric acid</th>\n",
       "      <th>residual sugar</th>\n",
       "      <th>chlorides</th>\n",
       "      <th>free sulfur dioxide</th>\n",
       "      <th>total sulfur dioxide</th>\n",
       "      <th>density</th>\n",
       "      <th>pH</th>\n",
       "      <th>sulphates</th>\n",
       "      <th>alcohol</th>\n",
       "    </tr>\n",
       "  </thead>\n",
       "  <tbody>\n",
       "    <tr>\n",
       "      <th>225</th>\n",
       "      <td>7.5</td>\n",
       "      <td>0.65</td>\n",
       "      <td>0.18</td>\n",
       "      <td>7.0</td>\n",
       "      <td>0.088</td>\n",
       "      <td>27.0</td>\n",
       "      <td>94.0</td>\n",
       "      <td>0.99915</td>\n",
       "      <td>3.38</td>\n",
       "      <td>0.77</td>\n",
       "      <td>9.4</td>\n",
       "    </tr>\n",
       "    <tr>\n",
       "      <th>3557</th>\n",
       "      <td>6.3</td>\n",
       "      <td>0.27</td>\n",
       "      <td>0.29</td>\n",
       "      <td>12.2</td>\n",
       "      <td>0.044</td>\n",
       "      <td>59.0</td>\n",
       "      <td>196.0</td>\n",
       "      <td>0.99782</td>\n",
       "      <td>3.14</td>\n",
       "      <td>0.40</td>\n",
       "      <td>8.8</td>\n",
       "    </tr>\n",
       "    <tr>\n",
       "      <th>3825</th>\n",
       "      <td>8.8</td>\n",
       "      <td>0.27</td>\n",
       "      <td>0.25</td>\n",
       "      <td>5.0</td>\n",
       "      <td>0.024</td>\n",
       "      <td>52.0</td>\n",
       "      <td>99.0</td>\n",
       "      <td>0.99250</td>\n",
       "      <td>2.87</td>\n",
       "      <td>0.49</td>\n",
       "      <td>11.4</td>\n",
       "    </tr>\n",
       "    <tr>\n",
       "      <th>1740</th>\n",
       "      <td>6.4</td>\n",
       "      <td>0.45</td>\n",
       "      <td>0.07</td>\n",
       "      <td>1.1</td>\n",
       "      <td>0.030</td>\n",
       "      <td>10.0</td>\n",
       "      <td>131.0</td>\n",
       "      <td>0.99050</td>\n",
       "      <td>2.97</td>\n",
       "      <td>0.28</td>\n",
       "      <td>10.8</td>\n",
       "    </tr>\n",
       "    <tr>\n",
       "      <th>1221</th>\n",
       "      <td>7.2</td>\n",
       "      <td>0.53</td>\n",
       "      <td>0.13</td>\n",
       "      <td>2.0</td>\n",
       "      <td>0.058</td>\n",
       "      <td>18.0</td>\n",
       "      <td>22.0</td>\n",
       "      <td>0.99573</td>\n",
       "      <td>3.21</td>\n",
       "      <td>0.68</td>\n",
       "      <td>9.9</td>\n",
       "    </tr>\n",
       "  </tbody>\n",
       "</table>\n",
       "</div>"
      ],
      "text/plain": [
       "      fixed acidity  volatile acidity  citric acid  residual sugar  chlorides  \\\n",
       "225             7.5              0.65         0.18             7.0      0.088   \n",
       "3557            6.3              0.27         0.29            12.2      0.044   \n",
       "3825            8.8              0.27         0.25             5.0      0.024   \n",
       "1740            6.4              0.45         0.07             1.1      0.030   \n",
       "1221            7.2              0.53         0.13             2.0      0.058   \n",
       "\n",
       "      free sulfur dioxide  total sulfur dioxide  density    pH  sulphates  \\\n",
       "225                  27.0                  94.0  0.99915  3.38       0.77   \n",
       "3557                 59.0                 196.0  0.99782  3.14       0.40   \n",
       "3825                 52.0                  99.0  0.99250  2.87       0.49   \n",
       "1740                 10.0                 131.0  0.99050  2.97       0.28   \n",
       "1221                 18.0                  22.0  0.99573  3.21       0.68   \n",
       "\n",
       "      alcohol  \n",
       "225       9.4  \n",
       "3557      8.8  \n",
       "3825     11.4  \n",
       "1740     10.8  \n",
       "1221      9.9  "
      ]
     },
     "execution_count": 62,
     "metadata": {},
     "output_type": "execute_result"
    }
   ],
   "source": [
    "train.head()"
   ]
  },
  {
   "cell_type": "markdown",
   "metadata": {},
   "source": [
    "### Normalize the data (TODO)\n",
    "\n",
    "Next, you can normalize the data, x, using the formula:\n",
    "$$x_{norm} = \\frac{x - \\mu}{\\sigma}$$\n",
    "- The `norm` function is defined for you.\n",
    "- Please apply the `norm` function to normalize the dataframes that contains the feature columns of `train`, `val` and `test` sets."
   ]
  },
  {
   "cell_type": "code",
   "execution_count": 63,
   "metadata": {},
   "outputs": [],
   "source": [
    "def norm(x):\n",
    "    return (x - train_stats['mean']) / train_stats['std']"
   ]
  },
  {
   "cell_type": "code",
   "execution_count": 64,
   "metadata": {},
   "outputs": [],
   "source": [
    "# Please uncomment all lines in this cell and replace those marked with `# YOUR CODE HERE`.\n",
    "# You can select all lines in this code cell with Ctrl+A (Windows/Linux) or Cmd+A (Mac), then press Ctrl+/ (Windows/Linux) or Cmd+/ (Mac) to uncomment.\n",
    "\n",
    "\n",
    "\n",
    "# normalize the train set\n",
    "norm_train_X = norm(train)\n",
    "    \n",
    "# normalize the val set\n",
    "norm_val_X = norm(val)\n",
    "    \n",
    "# normalize the test set\n",
    "norm_test_X = norm(test)"
   ]
  },
  {
   "cell_type": "code",
   "execution_count": 65,
   "metadata": {},
   "outputs": [
    {
     "name": "stdout",
     "output_type": "stream",
     "text": [
      "\u001b[92m All public tests passed\n"
     ]
    }
   ],
   "source": [
    "utils.test_norm(norm_train_X, norm_val_X, norm_test_X, train, val, test)\n"
   ]
  },
  {
   "cell_type": "markdown",
   "metadata": {},
   "source": [
    "## Define the Model (TODO)\n",
    "\n",
    "Define the model using the functional API. The base model will be 2 `Dense` layers of 128 neurons each, and have the `'relu'` activation.\n",
    "- Check out the documentation for [tf.keras.layers.Dense](https://www.tensorflow.org/api_docs/python/tf/keras/layers/Dense)"
   ]
  },
  {
   "cell_type": "code",
   "execution_count": 66,
   "metadata": {},
   "outputs": [],
   "source": [
    "# Please uncomment all lines in this cell and replace those marked with `# YOUR CODE HERE`.\n",
    "# You can select all lines in this code cell with Ctrl+A (Windows/Linux) or Cmd+A (Mac), then press Ctrl+/ (Windows/Linux) or Cmd+/ (Mac) to uncomment.\n",
    "\n",
    "\n",
    "\n",
    "def base_model(inputs):\n",
    "    \n",
    "    # connect a Dense layer with 128 neurons and a relu activation\n",
    "    x = Dense(128, activation = 'relu')(inputs)\n",
    "    \n",
    "    # connect another Dense layer with 128 neurons and a relu activation\n",
    "    x = Dense(128, activation = 'relu')(x)\n",
    "    return x\n",
    "  "
   ]
  },
  {
   "cell_type": "code",
   "execution_count": 67,
   "metadata": {},
   "outputs": [
    {
     "name": "stdout",
     "output_type": "stream",
     "text": [
      "\u001b[92m All public tests passed\n"
     ]
    }
   ],
   "source": [
    "utils.test_base_model(base_model)"
   ]
  },
  {
   "cell_type": "markdown",
   "metadata": {},
   "source": [
    "# Define output layers of the model (TODO)\n",
    "\n",
    "You will add output layers to the base model. \n",
    "- The model will need two outputs.\n",
    "\n",
    "One output layer will predict wine quality, which is a numeric value.\n",
    "- Define a `Dense` layer with 1 neuron.\n",
    "- Since this is a regression output, the activation can be left as its default value `None`.\n",
    "\n",
    "The other output layer will predict the wine type, which is either red `1` or not red `0` (white).\n",
    "- Define a `Dense` layer with 1 neuron.\n",
    "- Since there are two possible categories, you can use a sigmoid activation for binary classification.\n",
    "\n",
    "Define the `Model`\n",
    "- Define the `Model` object, and set the following parameters:\n",
    "  - `inputs`: pass in the inputs to the model as a list.\n",
    "  - `outputs`: pass in a list of the outputs that you just defined: wine quality, then wine type.\n",
    "  - **Note**: please list the wine quality before wine type in the outputs, as this will affect the calculated loss if you choose the other order."
   ]
  },
  {
   "cell_type": "code",
   "execution_count": 68,
   "metadata": {},
   "outputs": [],
   "source": [
    "# Please uncomment all lines in this cell and replace those marked with `# YOUR CODE HERE`.\n",
    "# You can select all lines in this code cell with Ctrl+A (Windows/Linux) or Cmd+A (Mac), then press Ctrl+/ (Windows/Linux) or Cmd+/ (Mac) to uncomment.\n",
    "\n",
    "\n",
    "\n",
    "def final_model(inputs):\n",
    "    \n",
    "    # get the base model\n",
    "    x = base_model(inputs)\n",
    "\n",
    "    # connect the output Dense layer for regression\n",
    "    wine_quality = Dense(units='1', name='wine_quality')(x)\n",
    "\n",
    "    # connect the output Dense layer for classification. this will use a sigmoid activation.\n",
    "    wine_type = Dense(units='1', activation = 'sigmoid', name='wine_type')(x)\n",
    "\n",
    "    # define the model using the input and output layers\n",
    "    model = Model(inputs = inputs, outputs = [wine_quality, wine_type])\n",
    "\n",
    "    return model"
   ]
  },
  {
   "cell_type": "code",
   "execution_count": 77,
   "metadata": {},
   "outputs": [],
   "source": [
    "#utils.test_final_model(final_model)"
   ]
  },
  {
   "cell_type": "markdown",
   "metadata": {},
   "source": [
    "## Compiling the Model\n",
    "\n",
    "Next, compile the model. When setting the loss parameter of `model.compile`, you're setting the loss for each of the two outputs (wine quality and wine type).\n",
    "\n",
    "To set more than one loss, use a dictionary of key-value pairs.\n",
    "- You can look at the docs for the losses [here](https://www.tensorflow.org/api_docs/python/tf/keras/losses#functions).\n",
    "    - **Note**: For the desired spelling, please look at the \"Functions\" section of the documentation and not the \"classes\" section on that same page.\n",
    "- wine_type: Since you will be performing binary classification on wine type, you should use the binary crossentropy loss function for it.  Please pass this in as a string.  \n",
    "  - **Hint**, this should be all lowercase.  In the documentation, you'll see this under the \"Functions\" section, not the \"Classes\" section.\n",
    "- wine_quality: since this is a regression output, use the mean squared error.  Please pass it in as a string, all lowercase.\n",
    "  - **Hint**: You may notice that there are two aliases for mean squared error.  Please use the shorter name.\n",
    "\n",
    "\n",
    "You will also set the metric for each of the two outputs.  Again, to set metrics for two or more outputs, use a dictionary with key value pairs.\n",
    "- The metrics documentation is linked [here](https://www.tensorflow.org/api_docs/python/tf/keras/metrics).\n",
    "- For the wine type, please set it to accuracy as a string, all lowercase.\n",
    "- For wine quality, please use the root mean squared error.  Instead of a string, you'll set it to an instance of the class [RootMeanSquaredError](https://www.tensorflow.org/api_docs/python/tf/keras/metrics/RootMeanSquaredError), which belongs to the tf.keras.metrics module.\n",
    "\n",
    "**Note**: If you see the error message \n",
    ">Exception: wine quality loss function is incorrect.\n",
    "\n",
    "- Please also check your other losses and metrics, as the error may be caused by the other three key-value pairs and not the wine quality loss."
   ]
  },
  {
   "cell_type": "code",
   "execution_count": 70,
   "metadata": {},
   "outputs": [],
   "source": [
    "# Please uncomment all lines in this cell and replace those marked with `# YOUR CODE HERE`.\n",
    "# You can select all lines in this code cell with Ctrl+A (Windows/Linux) or Cmd+A (Mac), then press Ctrl+/ (Windows/Linux) or Cmd+/ (Mac) to uncomment.\n",
    "\n",
    "\n",
    "\n",
    "inputs = tf.keras.layers.Input(shape=(11,))\n",
    "rms = tf.keras.optimizers.RMSprop(lr=0.0001)\n",
    "model = final_model(inputs)\n",
    "\n",
    "model.compile(optimizer=rms, \n",
    "              loss = {'wine_type' : 'binary_crossentropy',\n",
    "                      'wine_quality' : 'mse'\n",
    "                     },\n",
    "              metrics = {'wine_type' : 'accuracy',\n",
    "                         'wine_quality': tf.keras.metrics.RootMeanSquaredError()\n",
    "                       }\n",
    "             )\n"
   ]
  },
  {
   "cell_type": "code",
   "execution_count": 76,
   "metadata": {},
   "outputs": [],
   "source": [
    "#utils.test_model_compile(model)"
   ]
  },
  {
   "cell_type": "markdown",
   "metadata": {},
   "source": [
    "## Training the Model\n",
    "\n",
    "Fit the model to the training inputs and outputs. \n",
    "- Check the documentation for [model.fit](https://www.tensorflow.org/api_docs/python/tf/keras/Model#fit).\n",
    "- Remember to use the normalized training set as inputs. \n",
    "- For the validation data, please use the normalized validation set."
   ]
  },
  {
   "cell_type": "code",
   "execution_count": 72,
   "metadata": {},
   "outputs": [
    {
     "name": "stdout",
     "output_type": "stream",
     "text": [
      "Epoch 1/180\n",
      "64/99 [==================>...........] - ETA: 0s - loss: 28.3226 - wine_quality_loss: 27.6580 - wine_type_loss: 0.6646 - wine_quality_root_mean_squared_error: 5.2591 - wine_type_accuracy: 0.6641WARNING:tensorflow:Callbacks method `on_test_batch_end` is slow compared to the batch time (batch time: 0.0000s vs `on_test_batch_end` time: 0.0010s). Check your callbacks.\n",
      "99/99 [==============================] - 0s 4ms/step - loss: 25.5957 - wine_quality_loss: 24.9433 - wine_type_loss: 0.6524 - wine_quality_root_mean_squared_error: 4.9943 - wine_type_accuracy: 0.7227 - val_loss: 18.2886 - val_wine_quality_loss: 17.6677 - val_wine_type_loss: 0.6209 - val_wine_quality_root_mean_squared_error: 4.2033 - val_wine_type_accuracy: 0.8542\n",
      "Epoch 2/180\n",
      "99/99 [==============================] - 0s 1ms/step - loss: 12.3528 - wine_quality_loss: 11.7774 - wine_type_loss: 0.5753 - wine_quality_root_mean_squared_error: 3.4318 - wine_type_accuracy: 0.8181 - val_loss: 7.2566 - val_wine_quality_loss: 6.7250 - val_wine_type_loss: 0.5316 - val_wine_quality_root_mean_squared_error: 2.5933 - val_wine_type_accuracy: 0.7630\n",
      "Epoch 3/180\n",
      "99/99 [==============================] - 0s 1ms/step - loss: 4.8013 - wine_quality_loss: 4.3192 - wine_type_loss: 0.4821 - wine_quality_root_mean_squared_error: 2.0783 - wine_type_accuracy: 0.7550 - val_loss: 3.4612 - val_wine_quality_loss: 3.0215 - val_wine_type_loss: 0.4397 - val_wine_quality_root_mean_squared_error: 1.7382 - val_wine_type_accuracy: 0.7592\n",
      "Epoch 4/180\n",
      "99/99 [==============================] - 0s 975us/step - loss: 3.0753 - wine_quality_loss: 2.6897 - wine_type_loss: 0.3856 - wine_quality_root_mean_squared_error: 1.6400 - wine_type_accuracy: 0.8330 - val_loss: 2.7709 - val_wine_quality_loss: 2.4270 - val_wine_type_loss: 0.3439 - val_wine_quality_root_mean_squared_error: 1.5579 - val_wine_type_accuracy: 0.9011\n",
      "Epoch 5/180\n",
      "99/99 [==============================] - 0s 961us/step - loss: 2.5054 - wine_quality_loss: 2.2051 - wine_type_loss: 0.3003 - wine_quality_root_mean_squared_error: 1.4849 - wine_type_accuracy: 0.9436 - val_loss: 2.2958 - val_wine_quality_loss: 2.0286 - val_wine_type_loss: 0.2672 - val_wine_quality_root_mean_squared_error: 1.4243 - val_wine_type_accuracy: 0.9696\n",
      "Epoch 6/180\n",
      "99/99 [==============================] - 0s 989us/step - loss: 2.0870 - wine_quality_loss: 1.8554 - wine_type_loss: 0.2317 - wine_quality_root_mean_squared_error: 1.3621 - wine_type_accuracy: 0.9756 - val_loss: 1.9351 - val_wine_quality_loss: 1.7291 - val_wine_type_loss: 0.2060 - val_wine_quality_root_mean_squared_error: 1.3150 - val_wine_type_accuracy: 0.9873\n",
      "Epoch 7/180\n",
      "99/99 [==============================] - 0s 1ms/step - loss: 1.7935 - wine_quality_loss: 1.6133 - wine_type_loss: 0.1802 - wine_quality_root_mean_squared_error: 1.2702 - wine_type_accuracy: 0.9842 - val_loss: 1.6949 - val_wine_quality_loss: 1.5330 - val_wine_type_loss: 0.1619 - val_wine_quality_root_mean_squared_error: 1.2381 - val_wine_type_accuracy: 0.9873\n",
      "Epoch 8/180\n",
      "99/99 [==============================] - 0s 976us/step - loss: 1.5933 - wine_quality_loss: 1.4490 - wine_type_loss: 0.1443 - wine_quality_root_mean_squared_error: 1.2037 - wine_type_accuracy: 0.9854 - val_loss: 1.5105 - val_wine_quality_loss: 1.3801 - val_wine_type_loss: 0.1304 - val_wine_quality_root_mean_squared_error: 1.1748 - val_wine_type_accuracy: 0.9886\n",
      "Epoch 9/180\n",
      "99/99 [==============================] - 0s 952us/step - loss: 1.4425 - wine_quality_loss: 1.3239 - wine_type_loss: 0.1186 - wine_quality_root_mean_squared_error: 1.1506 - wine_type_accuracy: 0.9867 - val_loss: 1.3795 - val_wine_quality_loss: 1.2718 - val_wine_type_loss: 0.1078 - val_wine_quality_root_mean_squared_error: 1.1277 - val_wine_type_accuracy: 0.9886\n",
      "Epoch 10/180\n",
      "99/99 [==============================] - 0s 1ms/step - loss: 1.3212 - wine_quality_loss: 1.2215 - wine_type_loss: 0.0997 - wine_quality_root_mean_squared_error: 1.1052 - wine_type_accuracy: 0.9876 - val_loss: 1.2752 - val_wine_quality_loss: 1.1839 - val_wine_type_loss: 0.0913 - val_wine_quality_root_mean_squared_error: 1.0881 - val_wine_type_accuracy: 0.9899\n",
      "Epoch 11/180\n",
      "99/99 [==============================] - 0s 967us/step - loss: 1.2243 - wine_quality_loss: 1.1380 - wine_type_loss: 0.0864 - wine_quality_root_mean_squared_error: 1.0668 - wine_type_accuracy: 0.9886 - val_loss: 1.1804 - val_wine_quality_loss: 1.1009 - val_wine_type_loss: 0.0795 - val_wine_quality_root_mean_squared_error: 1.0492 - val_wine_type_accuracy: 0.9899\n",
      "Epoch 12/180\n",
      "99/99 [==============================] - 0s 969us/step - loss: 1.1399 - wine_quality_loss: 1.0635 - wine_type_loss: 0.0764 - wine_quality_root_mean_squared_error: 1.0313 - wine_type_accuracy: 0.9889 - val_loss: 1.0846 - val_wine_quality_loss: 1.0141 - val_wine_type_loss: 0.0705 - val_wine_quality_root_mean_squared_error: 1.0070 - val_wine_type_accuracy: 0.9899\n",
      "Epoch 13/180\n",
      "99/99 [==============================] - 0s 1ms/step - loss: 1.0668 - wine_quality_loss: 0.9979 - wine_type_loss: 0.0689 - wine_quality_root_mean_squared_error: 0.9990 - wine_type_accuracy: 0.9895 - val_loss: 1.0231 - val_wine_quality_loss: 0.9595 - val_wine_type_loss: 0.0637 - val_wine_quality_root_mean_squared_error: 0.9795 - val_wine_type_accuracy: 0.9899\n",
      "Epoch 14/180\n",
      "99/99 [==============================] - 0s 1ms/step - loss: 1.0014 - wine_quality_loss: 0.9383 - wine_type_loss: 0.0630 - wine_quality_root_mean_squared_error: 0.9687 - wine_type_accuracy: 0.9899 - val_loss: 0.9532 - val_wine_quality_loss: 0.8951 - val_wine_type_loss: 0.0581 - val_wine_quality_root_mean_squared_error: 0.9461 - val_wine_type_accuracy: 0.9937\n",
      "Epoch 15/180\n",
      "99/99 [==============================] - 0s 1ms/step - loss: 0.9398 - wine_quality_loss: 0.8815 - wine_type_loss: 0.0583 - wine_quality_root_mean_squared_error: 0.9389 - wine_type_accuracy: 0.9905 - val_loss: 0.9060 - val_wine_quality_loss: 0.8523 - val_wine_type_loss: 0.0537 - val_wine_quality_root_mean_squared_error: 0.9232 - val_wine_type_accuracy: 0.9937\n",
      "Epoch 16/180\n",
      "99/99 [==============================] - 0s 984us/step - loss: 0.8851 - wine_quality_loss: 0.8307 - wine_type_loss: 0.0544 - wine_quality_root_mean_squared_error: 0.9114 - wine_type_accuracy: 0.9911 - val_loss: 0.8401 - val_wine_quality_loss: 0.7898 - val_wine_type_loss: 0.0503 - val_wine_quality_root_mean_squared_error: 0.8887 - val_wine_type_accuracy: 0.9937\n",
      "Epoch 17/180\n",
      "99/99 [==============================] - 0s 1ms/step - loss: 0.8355 - wine_quality_loss: 0.7842 - wine_type_loss: 0.0514 - wine_quality_root_mean_squared_error: 0.8855 - wine_type_accuracy: 0.9914 - val_loss: 0.7938 - val_wine_quality_loss: 0.7463 - val_wine_type_loss: 0.0475 - val_wine_quality_root_mean_squared_error: 0.8639 - val_wine_type_accuracy: 0.9937\n",
      "Epoch 18/180\n",
      "99/99 [==============================] - 0s 1ms/step - loss: 0.7918 - wine_quality_loss: 0.7430 - wine_type_loss: 0.0488 - wine_quality_root_mean_squared_error: 0.8620 - wine_type_accuracy: 0.9918 - val_loss: 0.7577 - val_wine_quality_loss: 0.7125 - val_wine_type_loss: 0.0451 - val_wine_quality_root_mean_squared_error: 0.8441 - val_wine_type_accuracy: 0.9937\n",
      "Epoch 19/180\n",
      "99/99 [==============================] - 0s 1ms/step - loss: 0.7546 - wine_quality_loss: 0.7078 - wine_type_loss: 0.0468 - wine_quality_root_mean_squared_error: 0.8413 - wine_type_accuracy: 0.9918 - val_loss: 0.7171 - val_wine_quality_loss: 0.6738 - val_wine_type_loss: 0.0433 - val_wine_quality_root_mean_squared_error: 0.8208 - val_wine_type_accuracy: 0.9937\n",
      "Epoch 20/180\n",
      "99/99 [==============================] - 0s 1ms/step - loss: 0.7168 - wine_quality_loss: 0.6718 - wine_type_loss: 0.0449 - wine_quality_root_mean_squared_error: 0.8196 - wine_type_accuracy: 0.9921 - val_loss: 0.6801 - val_wine_quality_loss: 0.6384 - val_wine_type_loss: 0.0417 - val_wine_quality_root_mean_squared_error: 0.7990 - val_wine_type_accuracy: 0.9937\n",
      "Epoch 21/180\n",
      "99/99 [==============================] - 0s 1ms/step - loss: 0.6809 - wine_quality_loss: 0.6374 - wine_type_loss: 0.0434 - wine_quality_root_mean_squared_error: 0.7984 - wine_type_accuracy: 0.9927 - val_loss: 0.6604 - val_wine_quality_loss: 0.6203 - val_wine_type_loss: 0.0401 - val_wine_quality_root_mean_squared_error: 0.7876 - val_wine_type_accuracy: 0.9924\n"
     ]
    },
    {
     "name": "stdout",
     "output_type": "stream",
     "text": [
      "Epoch 22/180\n",
      "99/99 [==============================] - 0s 1ms/step - loss: 0.6491 - wine_quality_loss: 0.6071 - wine_type_loss: 0.0420 - wine_quality_root_mean_squared_error: 0.7792 - wine_type_accuracy: 0.9927 - val_loss: 0.6175 - val_wine_quality_loss: 0.5785 - val_wine_type_loss: 0.0389 - val_wine_quality_root_mean_squared_error: 0.7606 - val_wine_type_accuracy: 0.9937\n",
      "Epoch 23/180\n",
      "99/99 [==============================] - 0s 1ms/step - loss: 0.6210 - wine_quality_loss: 0.5801 - wine_type_loss: 0.0409 - wine_quality_root_mean_squared_error: 0.7616 - wine_type_accuracy: 0.9927 - val_loss: 0.5850 - val_wine_quality_loss: 0.5470 - val_wine_type_loss: 0.0380 - val_wine_quality_root_mean_squared_error: 0.7396 - val_wine_type_accuracy: 0.9937\n",
      "Epoch 24/180\n",
      "99/99 [==============================] - 0s 1ms/step - loss: 0.5951 - wine_quality_loss: 0.5553 - wine_type_loss: 0.0398 - wine_quality_root_mean_squared_error: 0.7452 - wine_type_accuracy: 0.9930 - val_loss: 0.5598 - val_wine_quality_loss: 0.5226 - val_wine_type_loss: 0.0371 - val_wine_quality_root_mean_squared_error: 0.7229 - val_wine_type_accuracy: 0.9949\n",
      "Epoch 25/180\n",
      "99/99 [==============================] - 0s 970us/step - loss: 0.5698 - wine_quality_loss: 0.5309 - wine_type_loss: 0.0389 - wine_quality_root_mean_squared_error: 0.7286 - wine_type_accuracy: 0.9927 - val_loss: 0.5314 - val_wine_quality_loss: 0.4951 - val_wine_type_loss: 0.0364 - val_wine_quality_root_mean_squared_error: 0.7036 - val_wine_type_accuracy: 0.9949\n",
      "Epoch 26/180\n",
      "99/99 [==============================] - 0s 1ms/step - loss: 0.5462 - wine_quality_loss: 0.5082 - wine_type_loss: 0.0380 - wine_quality_root_mean_squared_error: 0.7129 - wine_type_accuracy: 0.9937 - val_loss: 0.5137 - val_wine_quality_loss: 0.4779 - val_wine_type_loss: 0.0357 - val_wine_quality_root_mean_squared_error: 0.6913 - val_wine_type_accuracy: 0.9949\n",
      "Epoch 27/180\n",
      "99/99 [==============================] - 0s 1ms/step - loss: 0.5231 - wine_quality_loss: 0.4859 - wine_type_loss: 0.0372 - wine_quality_root_mean_squared_error: 0.6970 - wine_type_accuracy: 0.9937 - val_loss: 0.4965 - val_wine_quality_loss: 0.4615 - val_wine_type_loss: 0.0350 - val_wine_quality_root_mean_squared_error: 0.6793 - val_wine_type_accuracy: 0.9949\n",
      "Epoch 28/180\n",
      "99/99 [==============================] - 0s 1ms/step - loss: 0.5047 - wine_quality_loss: 0.4683 - wine_type_loss: 0.0365 - wine_quality_root_mean_squared_error: 0.6843 - wine_type_accuracy: 0.9937 - val_loss: 0.4795 - val_wine_quality_loss: 0.4449 - val_wine_type_loss: 0.0347 - val_wine_quality_root_mean_squared_error: 0.6670 - val_wine_type_accuracy: 0.9949\n",
      "Epoch 29/180\n",
      "99/99 [==============================] - 0s 965us/step - loss: 0.4889 - wine_quality_loss: 0.4530 - wine_type_loss: 0.0359 - wine_quality_root_mean_squared_error: 0.6731 - wine_type_accuracy: 0.9943 - val_loss: 0.4746 - val_wine_quality_loss: 0.4403 - val_wine_type_loss: 0.0343 - val_wine_quality_root_mean_squared_error: 0.6636 - val_wine_type_accuracy: 0.9949\n",
      "Epoch 30/180\n",
      "99/99 [==============================] - 0s 944us/step - loss: 0.4757 - wine_quality_loss: 0.4404 - wine_type_loss: 0.0353 - wine_quality_root_mean_squared_error: 0.6636 - wine_type_accuracy: 0.9937 - val_loss: 0.4514 - val_wine_quality_loss: 0.4178 - val_wine_type_loss: 0.0336 - val_wine_quality_root_mean_squared_error: 0.6464 - val_wine_type_accuracy: 0.9949\n",
      "Epoch 31/180\n",
      "99/99 [==============================] - 0s 942us/step - loss: 0.4628 - wine_quality_loss: 0.4281 - wine_type_loss: 0.0347 - wine_quality_root_mean_squared_error: 0.6543 - wine_type_accuracy: 0.9943 - val_loss: 0.4402 - val_wine_quality_loss: 0.4068 - val_wine_type_loss: 0.0334 - val_wine_quality_root_mean_squared_error: 0.6378 - val_wine_type_accuracy: 0.9949\n",
      "Epoch 32/180\n",
      "99/99 [==============================] - 0s 1ms/step - loss: 0.4493 - wine_quality_loss: 0.4151 - wine_type_loss: 0.0342 - wine_quality_root_mean_squared_error: 0.6443 - wine_type_accuracy: 0.9943 - val_loss: 0.4372 - val_wine_quality_loss: 0.4040 - val_wine_type_loss: 0.0332 - val_wine_quality_root_mean_squared_error: 0.6356 - val_wine_type_accuracy: 0.9949\n",
      "Epoch 33/180\n",
      "99/99 [==============================] - 0s 981us/step - loss: 0.4403 - wine_quality_loss: 0.4065 - wine_type_loss: 0.0338 - wine_quality_root_mean_squared_error: 0.6376 - wine_type_accuracy: 0.9943 - val_loss: 0.4192 - val_wine_quality_loss: 0.3864 - val_wine_type_loss: 0.0328 - val_wine_quality_root_mean_squared_error: 0.6216 - val_wine_type_accuracy: 0.9949\n",
      "Epoch 34/180\n",
      "99/99 [==============================] - 0s 984us/step - loss: 0.4289 - wine_quality_loss: 0.3957 - wine_type_loss: 0.0333 - wine_quality_root_mean_squared_error: 0.6290 - wine_type_accuracy: 0.9943 - val_loss: 0.4120 - val_wine_quality_loss: 0.3795 - val_wine_type_loss: 0.0326 - val_wine_quality_root_mean_squared_error: 0.6160 - val_wine_type_accuracy: 0.9949\n",
      "Epoch 35/180\n",
      "99/99 [==============================] - 0s 923us/step - loss: 0.4199 - wine_quality_loss: 0.3870 - wine_type_loss: 0.0329 - wine_quality_root_mean_squared_error: 0.6221 - wine_type_accuracy: 0.9946 - val_loss: 0.4070 - val_wine_quality_loss: 0.3749 - val_wine_type_loss: 0.0321 - val_wine_quality_root_mean_squared_error: 0.6123 - val_wine_type_accuracy: 0.9949\n",
      "Epoch 36/180\n",
      "99/99 [==============================] - 0s 981us/step - loss: 0.4120 - wine_quality_loss: 0.3795 - wine_type_loss: 0.0325 - wine_quality_root_mean_squared_error: 0.6161 - wine_type_accuracy: 0.9943 - val_loss: 0.3986 - val_wine_quality_loss: 0.3667 - val_wine_type_loss: 0.0319 - val_wine_quality_root_mean_squared_error: 0.6056 - val_wine_type_accuracy: 0.9949\n",
      "Epoch 37/180\n",
      "99/99 [==============================] - 0s 918us/step - loss: 0.4054 - wine_quality_loss: 0.3733 - wine_type_loss: 0.0321 - wine_quality_root_mean_squared_error: 0.6110 - wine_type_accuracy: 0.9946 - val_loss: 0.3949 - val_wine_quality_loss: 0.3633 - val_wine_type_loss: 0.0316 - val_wine_quality_root_mean_squared_error: 0.6028 - val_wine_type_accuracy: 0.9949\n",
      "Epoch 38/180\n",
      "99/99 [==============================] - 0s 973us/step - loss: 0.3994 - wine_quality_loss: 0.3676 - wine_type_loss: 0.0318 - wine_quality_root_mean_squared_error: 0.6063 - wine_type_accuracy: 0.9943 - val_loss: 0.3857 - val_wine_quality_loss: 0.3543 - val_wine_type_loss: 0.0314 - val_wine_quality_root_mean_squared_error: 0.5952 - val_wine_type_accuracy: 0.9949\n",
      "Epoch 39/180\n",
      "99/99 [==============================] - 0s 926us/step - loss: 0.3931 - wine_quality_loss: 0.3616 - wine_type_loss: 0.0315 - wine_quality_root_mean_squared_error: 0.6013 - wine_type_accuracy: 0.9943 - val_loss: 0.3846 - val_wine_quality_loss: 0.3535 - val_wine_type_loss: 0.0312 - val_wine_quality_root_mean_squared_error: 0.5945 - val_wine_type_accuracy: 0.9949\n",
      "Epoch 40/180\n",
      "99/99 [==============================] - 0s 995us/step - loss: 0.3878 - wine_quality_loss: 0.3567 - wine_type_loss: 0.0311 - wine_quality_root_mean_squared_error: 0.5972 - wine_type_accuracy: 0.9946 - val_loss: 0.3748 - val_wine_quality_loss: 0.3438 - val_wine_type_loss: 0.0310 - val_wine_quality_root_mean_squared_error: 0.5864 - val_wine_type_accuracy: 0.9949\n",
      "Epoch 41/180\n",
      "99/99 [==============================] - 0s 941us/step - loss: 0.3827 - wine_quality_loss: 0.3518 - wine_type_loss: 0.0308 - wine_quality_root_mean_squared_error: 0.5932 - wine_type_accuracy: 0.9946 - val_loss: 0.3742 - val_wine_quality_loss: 0.3435 - val_wine_type_loss: 0.0307 - val_wine_quality_root_mean_squared_error: 0.5861 - val_wine_type_accuracy: 0.9949\n",
      "Epoch 42/180\n",
      "99/99 [==============================] - 0s 1ms/step - loss: 0.3769 - wine_quality_loss: 0.3465 - wine_type_loss: 0.0304 - wine_quality_root_mean_squared_error: 0.5886 - wine_type_accuracy: 0.9943 - val_loss: 0.3760 - val_wine_quality_loss: 0.3451 - val_wine_type_loss: 0.0309 - val_wine_quality_root_mean_squared_error: 0.5874 - val_wine_type_accuracy: 0.9949\n",
      "Epoch 43/180\n",
      "99/99 [==============================] - 0s 983us/step - loss: 0.3748 - wine_quality_loss: 0.3446 - wine_type_loss: 0.0302 - wine_quality_root_mean_squared_error: 0.5870 - wine_type_accuracy: 0.9946 - val_loss: 0.3651 - val_wine_quality_loss: 0.3345 - val_wine_type_loss: 0.0305 - val_wine_quality_root_mean_squared_error: 0.5784 - val_wine_type_accuracy: 0.9949\n"
     ]
    },
    {
     "name": "stdout",
     "output_type": "stream",
     "text": [
      "Epoch 44/180\n",
      "99/99 [==============================] - 0s 1ms/step - loss: 0.3711 - wine_quality_loss: 0.3412 - wine_type_loss: 0.0299 - wine_quality_root_mean_squared_error: 0.5841 - wine_type_accuracy: 0.9946 - val_loss: 0.3630 - val_wine_quality_loss: 0.3328 - val_wine_type_loss: 0.0303 - val_wine_quality_root_mean_squared_error: 0.5768 - val_wine_type_accuracy: 0.9949\n",
      "Epoch 45/180\n",
      "99/99 [==============================] - 0s 1ms/step - loss: 0.3675 - wine_quality_loss: 0.3379 - wine_type_loss: 0.0296 - wine_quality_root_mean_squared_error: 0.5813 - wine_type_accuracy: 0.9946 - val_loss: 0.3690 - val_wine_quality_loss: 0.3388 - val_wine_type_loss: 0.0302 - val_wine_quality_root_mean_squared_error: 0.5821 - val_wine_type_accuracy: 0.9949\n",
      "Epoch 46/180\n",
      "99/99 [==============================] - 0s 944us/step - loss: 0.3645 - wine_quality_loss: 0.3351 - wine_type_loss: 0.0294 - wine_quality_root_mean_squared_error: 0.5789 - wine_type_accuracy: 0.9946 - val_loss: 0.3700 - val_wine_quality_loss: 0.3397 - val_wine_type_loss: 0.0303 - val_wine_quality_root_mean_squared_error: 0.5829 - val_wine_type_accuracy: 0.9949\n",
      "Epoch 47/180\n",
      "99/99 [==============================] - 0s 1ms/step - loss: 0.3626 - wine_quality_loss: 0.3334 - wine_type_loss: 0.0291 - wine_quality_root_mean_squared_error: 0.5774 - wine_type_accuracy: 0.9949 - val_loss: 0.3620 - val_wine_quality_loss: 0.3320 - val_wine_type_loss: 0.0300 - val_wine_quality_root_mean_squared_error: 0.5762 - val_wine_type_accuracy: 0.9949\n",
      "Epoch 48/180\n",
      "99/99 [==============================] - 0s 974us/step - loss: 0.3597 - wine_quality_loss: 0.3308 - wine_type_loss: 0.0289 - wine_quality_root_mean_squared_error: 0.5751 - wine_type_accuracy: 0.9946 - val_loss: 0.3563 - val_wine_quality_loss: 0.3264 - val_wine_type_loss: 0.0299 - val_wine_quality_root_mean_squared_error: 0.5713 - val_wine_type_accuracy: 0.9949\n",
      "Epoch 49/180\n",
      "99/99 [==============================] - 0s 1ms/step - loss: 0.3572 - wine_quality_loss: 0.3286 - wine_type_loss: 0.0287 - wine_quality_root_mean_squared_error: 0.5732 - wine_type_accuracy: 0.9946 - val_loss: 0.3580 - val_wine_quality_loss: 0.3282 - val_wine_type_loss: 0.0298 - val_wine_quality_root_mean_squared_error: 0.5729 - val_wine_type_accuracy: 0.9949\n",
      "Epoch 50/180\n",
      "99/99 [==============================] - 0s 1ms/step - loss: 0.3547 - wine_quality_loss: 0.3262 - wine_type_loss: 0.0284 - wine_quality_root_mean_squared_error: 0.5712 - wine_type_accuracy: 0.9946 - val_loss: 0.3602 - val_wine_quality_loss: 0.3305 - val_wine_type_loss: 0.0297 - val_wine_quality_root_mean_squared_error: 0.5749 - val_wine_type_accuracy: 0.9949\n",
      "Epoch 51/180\n",
      "99/99 [==============================] - 0s 1ms/step - loss: 0.3524 - wine_quality_loss: 0.3242 - wine_type_loss: 0.0282 - wine_quality_root_mean_squared_error: 0.5694 - wine_type_accuracy: 0.9949 - val_loss: 0.3652 - val_wine_quality_loss: 0.3357 - val_wine_type_loss: 0.0295 - val_wine_quality_root_mean_squared_error: 0.5794 - val_wine_type_accuracy: 0.9949\n",
      "Epoch 52/180\n",
      "99/99 [==============================] - 0s 1ms/step - loss: 0.3510 - wine_quality_loss: 0.3230 - wine_type_loss: 0.0280 - wine_quality_root_mean_squared_error: 0.5684 - wine_type_accuracy: 0.9949 - val_loss: 0.3521 - val_wine_quality_loss: 0.3227 - val_wine_type_loss: 0.0294 - val_wine_quality_root_mean_squared_error: 0.5680 - val_wine_type_accuracy: 0.9949\n",
      "Epoch 53/180\n",
      "99/99 [==============================] - 0s 1ms/step - loss: 0.3493 - wine_quality_loss: 0.3216 - wine_type_loss: 0.0277 - wine_quality_root_mean_squared_error: 0.5671 - wine_type_accuracy: 0.9949 - val_loss: 0.3460 - val_wine_quality_loss: 0.3167 - val_wine_type_loss: 0.0293 - val_wine_quality_root_mean_squared_error: 0.5628 - val_wine_type_accuracy: 0.9949\n",
      "Epoch 54/180\n",
      "99/99 [==============================] - 0s 953us/step - loss: 0.3464 - wine_quality_loss: 0.3189 - wine_type_loss: 0.0275 - wine_quality_root_mean_squared_error: 0.5647 - wine_type_accuracy: 0.9949 - val_loss: 0.3459 - val_wine_quality_loss: 0.3166 - val_wine_type_loss: 0.0293 - val_wine_quality_root_mean_squared_error: 0.5627 - val_wine_type_accuracy: 0.9949\n",
      "Epoch 55/180\n",
      "99/99 [==============================] - 0s 960us/step - loss: 0.3449 - wine_quality_loss: 0.3177 - wine_type_loss: 0.0272 - wine_quality_root_mean_squared_error: 0.5636 - wine_type_accuracy: 0.9949 - val_loss: 0.3472 - val_wine_quality_loss: 0.3179 - val_wine_type_loss: 0.0292 - val_wine_quality_root_mean_squared_error: 0.5638 - val_wine_type_accuracy: 0.9949\n",
      "Epoch 56/180\n",
      "99/99 [==============================] - 0s 950us/step - loss: 0.3442 - wine_quality_loss: 0.3171 - wine_type_loss: 0.0271 - wine_quality_root_mean_squared_error: 0.5631 - wine_type_accuracy: 0.9946 - val_loss: 0.3451 - val_wine_quality_loss: 0.3160 - val_wine_type_loss: 0.0291 - val_wine_quality_root_mean_squared_error: 0.5621 - val_wine_type_accuracy: 0.9949\n",
      "Epoch 57/180\n",
      "99/99 [==============================] - 0s 957us/step - loss: 0.3426 - wine_quality_loss: 0.3157 - wine_type_loss: 0.0269 - wine_quality_root_mean_squared_error: 0.5619 - wine_type_accuracy: 0.9949 - val_loss: 0.3512 - val_wine_quality_loss: 0.3221 - val_wine_type_loss: 0.0291 - val_wine_quality_root_mean_squared_error: 0.5675 - val_wine_type_accuracy: 0.9949\n",
      "Epoch 58/180\n",
      "99/99 [==============================] - 0s 971us/step - loss: 0.3394 - wine_quality_loss: 0.3128 - wine_type_loss: 0.0266 - wine_quality_root_mean_squared_error: 0.5593 - wine_type_accuracy: 0.9946 - val_loss: 0.3485 - val_wine_quality_loss: 0.3197 - val_wine_type_loss: 0.0288 - val_wine_quality_root_mean_squared_error: 0.5654 - val_wine_type_accuracy: 0.9949\n",
      "Epoch 59/180\n",
      "99/99 [==============================] - 0s 986us/step - loss: 0.3399 - wine_quality_loss: 0.3135 - wine_type_loss: 0.0264 - wine_quality_root_mean_squared_error: 0.5599 - wine_type_accuracy: 0.9949 - val_loss: 0.3448 - val_wine_quality_loss: 0.3160 - val_wine_type_loss: 0.0287 - val_wine_quality_root_mean_squared_error: 0.5622 - val_wine_type_accuracy: 0.9949\n",
      "Epoch 60/180\n",
      "99/99 [==============================] - 0s 948us/step - loss: 0.3366 - wine_quality_loss: 0.3104 - wine_type_loss: 0.0263 - wine_quality_root_mean_squared_error: 0.5571 - wine_type_accuracy: 0.9952 - val_loss: 0.3453 - val_wine_quality_loss: 0.3165 - val_wine_type_loss: 0.0288 - val_wine_quality_root_mean_squared_error: 0.5626 - val_wine_type_accuracy: 0.9949\n",
      "Epoch 61/180\n",
      "99/99 [==============================] - 0s 1ms/step - loss: 0.3366 - wine_quality_loss: 0.3106 - wine_type_loss: 0.0260 - wine_quality_root_mean_squared_error: 0.5573 - wine_type_accuracy: 0.9949 - val_loss: 0.3425 - val_wine_quality_loss: 0.3138 - val_wine_type_loss: 0.0287 - val_wine_quality_root_mean_squared_error: 0.5602 - val_wine_type_accuracy: 0.9949\n",
      "Epoch 62/180\n",
      "99/99 [==============================] - 0s 958us/step - loss: 0.3352 - wine_quality_loss: 0.3093 - wine_type_loss: 0.0259 - wine_quality_root_mean_squared_error: 0.5562 - wine_type_accuracy: 0.9952 - val_loss: 0.3400 - val_wine_quality_loss: 0.3114 - val_wine_type_loss: 0.0286 - val_wine_quality_root_mean_squared_error: 0.5580 - val_wine_type_accuracy: 0.9949\n",
      "Epoch 63/180\n",
      "99/99 [==============================] - 0s 942us/step - loss: 0.3341 - wine_quality_loss: 0.3084 - wine_type_loss: 0.0257 - wine_quality_root_mean_squared_error: 0.5554 - wine_type_accuracy: 0.9949 - val_loss: 0.3410 - val_wine_quality_loss: 0.3125 - val_wine_type_loss: 0.0285 - val_wine_quality_root_mean_squared_error: 0.5590 - val_wine_type_accuracy: 0.9949\n",
      "Epoch 64/180\n",
      "99/99 [==============================] - 0s 958us/step - loss: 0.3334 - wine_quality_loss: 0.3079 - wine_type_loss: 0.0255 - wine_quality_root_mean_squared_error: 0.5548 - wine_type_accuracy: 0.9949 - val_loss: 0.3406 - val_wine_quality_loss: 0.3122 - val_wine_type_loss: 0.0284 - val_wine_quality_root_mean_squared_error: 0.5587 - val_wine_type_accuracy: 0.9949\n",
      "Epoch 65/180\n",
      "99/99 [==============================] - 0s 953us/step - loss: 0.3315 - wine_quality_loss: 0.3061 - wine_type_loss: 0.0254 - wine_quality_root_mean_squared_error: 0.5533 - wine_type_accuracy: 0.9949 - val_loss: 0.3488 - val_wine_quality_loss: 0.3206 - val_wine_type_loss: 0.0282 - val_wine_quality_root_mean_squared_error: 0.5662 - val_wine_type_accuracy: 0.9949\n"
     ]
    },
    {
     "name": "stdout",
     "output_type": "stream",
     "text": [
      "Epoch 66/180\n",
      "99/99 [==============================] - 0s 982us/step - loss: 0.3309 - wine_quality_loss: 0.3057 - wine_type_loss: 0.0252 - wine_quality_root_mean_squared_error: 0.5529 - wine_type_accuracy: 0.9956 - val_loss: 0.3396 - val_wine_quality_loss: 0.3113 - val_wine_type_loss: 0.0283 - val_wine_quality_root_mean_squared_error: 0.5580 - val_wine_type_accuracy: 0.9949\n",
      "Epoch 67/180\n",
      "99/99 [==============================] - 0s 964us/step - loss: 0.3289 - wine_quality_loss: 0.3039 - wine_type_loss: 0.0250 - wine_quality_root_mean_squared_error: 0.5513 - wine_type_accuracy: 0.9956 - val_loss: 0.3466 - val_wine_quality_loss: 0.3183 - val_wine_type_loss: 0.0283 - val_wine_quality_root_mean_squared_error: 0.5642 - val_wine_type_accuracy: 0.9949\n",
      "Epoch 68/180\n",
      "99/99 [==============================] - 0s 962us/step - loss: 0.3290 - wine_quality_loss: 0.3041 - wine_type_loss: 0.0248 - wine_quality_root_mean_squared_error: 0.5515 - wine_type_accuracy: 0.9956 - val_loss: 0.3396 - val_wine_quality_loss: 0.3114 - val_wine_type_loss: 0.0282 - val_wine_quality_root_mean_squared_error: 0.5580 - val_wine_type_accuracy: 0.9949\n",
      "Epoch 69/180\n",
      "99/99 [==============================] - 0s 968us/step - loss: 0.3278 - wine_quality_loss: 0.3031 - wine_type_loss: 0.0247 - wine_quality_root_mean_squared_error: 0.5506 - wine_type_accuracy: 0.9952 - val_loss: 0.3395 - val_wine_quality_loss: 0.3114 - val_wine_type_loss: 0.0281 - val_wine_quality_root_mean_squared_error: 0.5580 - val_wine_type_accuracy: 0.9949\n",
      "Epoch 70/180\n",
      "99/99 [==============================] - 0s 980us/step - loss: 0.3263 - wine_quality_loss: 0.3018 - wine_type_loss: 0.0245 - wine_quality_root_mean_squared_error: 0.5494 - wine_type_accuracy: 0.9956 - val_loss: 0.3398 - val_wine_quality_loss: 0.3118 - val_wine_type_loss: 0.0280 - val_wine_quality_root_mean_squared_error: 0.5584 - val_wine_type_accuracy: 0.9949\n",
      "Epoch 71/180\n",
      "99/99 [==============================] - 0s 954us/step - loss: 0.3245 - wine_quality_loss: 0.3001 - wine_type_loss: 0.0244 - wine_quality_root_mean_squared_error: 0.5478 - wine_type_accuracy: 0.9956 - val_loss: 0.3416 - val_wine_quality_loss: 0.3136 - val_wine_type_loss: 0.0280 - val_wine_quality_root_mean_squared_error: 0.5600 - val_wine_type_accuracy: 0.9949\n",
      "Epoch 72/180\n",
      "99/99 [==============================] - 0s 948us/step - loss: 0.3242 - wine_quality_loss: 0.3000 - wine_type_loss: 0.0242 - wine_quality_root_mean_squared_error: 0.5478 - wine_type_accuracy: 0.9956 - val_loss: 0.3366 - val_wine_quality_loss: 0.3086 - val_wine_type_loss: 0.0279 - val_wine_quality_root_mean_squared_error: 0.5556 - val_wine_type_accuracy: 0.9949\n",
      "Epoch 73/180\n",
      "99/99 [==============================] - 0s 987us/step - loss: 0.3246 - wine_quality_loss: 0.3005 - wine_type_loss: 0.0240 - wine_quality_root_mean_squared_error: 0.5482 - wine_type_accuracy: 0.9956 - val_loss: 0.3384 - val_wine_quality_loss: 0.3105 - val_wine_type_loss: 0.0279 - val_wine_quality_root_mean_squared_error: 0.5572 - val_wine_type_accuracy: 0.9949\n",
      "Epoch 74/180\n",
      "99/99 [==============================] - 0s 959us/step - loss: 0.3236 - wine_quality_loss: 0.2997 - wine_type_loss: 0.0239 - wine_quality_root_mean_squared_error: 0.5474 - wine_type_accuracy: 0.9952 - val_loss: 0.3509 - val_wine_quality_loss: 0.3231 - val_wine_type_loss: 0.0278 - val_wine_quality_root_mean_squared_error: 0.5685 - val_wine_type_accuracy: 0.9949\n",
      "Epoch 75/180\n",
      "99/99 [==============================] - 0s 946us/step - loss: 0.3220 - wine_quality_loss: 0.2983 - wine_type_loss: 0.0238 - wine_quality_root_mean_squared_error: 0.5461 - wine_type_accuracy: 0.9956 - val_loss: 0.3361 - val_wine_quality_loss: 0.3083 - val_wine_type_loss: 0.0278 - val_wine_quality_root_mean_squared_error: 0.5553 - val_wine_type_accuracy: 0.9949\n",
      "Epoch 76/180\n",
      "99/99 [==============================] - 0s 969us/step - loss: 0.3201 - wine_quality_loss: 0.2964 - wine_type_loss: 0.0237 - wine_quality_root_mean_squared_error: 0.5444 - wine_type_accuracy: 0.9956 - val_loss: 0.3382 - val_wine_quality_loss: 0.3104 - val_wine_type_loss: 0.0278 - val_wine_quality_root_mean_squared_error: 0.5571 - val_wine_type_accuracy: 0.9949\n",
      "Epoch 77/180\n",
      "99/99 [==============================] - 0s 956us/step - loss: 0.3216 - wine_quality_loss: 0.2982 - wine_type_loss: 0.0234 - wine_quality_root_mean_squared_error: 0.5460 - wine_type_accuracy: 0.9956 - val_loss: 0.3372 - val_wine_quality_loss: 0.3094 - val_wine_type_loss: 0.0278 - val_wine_quality_root_mean_squared_error: 0.5562 - val_wine_type_accuracy: 0.9949\n",
      "Epoch 78/180\n",
      "99/99 [==============================] - 0s 984us/step - loss: 0.3202 - wine_quality_loss: 0.2968 - wine_type_loss: 0.0234 - wine_quality_root_mean_squared_error: 0.5448 - wine_type_accuracy: 0.9956 - val_loss: 0.3414 - val_wine_quality_loss: 0.3135 - val_wine_type_loss: 0.0278 - val_wine_quality_root_mean_squared_error: 0.5599 - val_wine_type_accuracy: 0.9949\n",
      "Epoch 79/180\n",
      "99/99 [==============================] - 0s 983us/step - loss: 0.3189 - wine_quality_loss: 0.2956 - wine_type_loss: 0.0232 - wine_quality_root_mean_squared_error: 0.5437 - wine_type_accuracy: 0.9952 - val_loss: 0.3374 - val_wine_quality_loss: 0.3097 - val_wine_type_loss: 0.0277 - val_wine_quality_root_mean_squared_error: 0.5565 - val_wine_type_accuracy: 0.9949\n",
      "Epoch 80/180\n",
      "99/99 [==============================] - 0s 997us/step - loss: 0.3187 - wine_quality_loss: 0.2956 - wine_type_loss: 0.0231 - wine_quality_root_mean_squared_error: 0.5437 - wine_type_accuracy: 0.9956 - val_loss: 0.3367 - val_wine_quality_loss: 0.3090 - val_wine_type_loss: 0.0277 - val_wine_quality_root_mean_squared_error: 0.5559 - val_wine_type_accuracy: 0.9949\n",
      "Epoch 81/180\n",
      "99/99 [==============================] - 0s 993us/step - loss: 0.3169 - wine_quality_loss: 0.2940 - wine_type_loss: 0.0229 - wine_quality_root_mean_squared_error: 0.5422 - wine_type_accuracy: 0.9956 - val_loss: 0.3393 - val_wine_quality_loss: 0.3116 - val_wine_type_loss: 0.0276 - val_wine_quality_root_mean_squared_error: 0.5583 - val_wine_type_accuracy: 0.9949\n",
      "Epoch 82/180\n",
      "99/99 [==============================] - 0s 967us/step - loss: 0.3170 - wine_quality_loss: 0.2942 - wine_type_loss: 0.0228 - wine_quality_root_mean_squared_error: 0.5424 - wine_type_accuracy: 0.9956 - val_loss: 0.3370 - val_wine_quality_loss: 0.3095 - val_wine_type_loss: 0.0275 - val_wine_quality_root_mean_squared_error: 0.5564 - val_wine_type_accuracy: 0.9949\n",
      "Epoch 83/180\n",
      "99/99 [==============================] - 0s 977us/step - loss: 0.3154 - wine_quality_loss: 0.2927 - wine_type_loss: 0.0227 - wine_quality_root_mean_squared_error: 0.5410 - wine_type_accuracy: 0.9956 - val_loss: 0.3363 - val_wine_quality_loss: 0.3088 - val_wine_type_loss: 0.0275 - val_wine_quality_root_mean_squared_error: 0.5557 - val_wine_type_accuracy: 0.9949\n",
      "Epoch 84/180\n",
      "99/99 [==============================] - 0s 951us/step - loss: 0.3157 - wine_quality_loss: 0.2931 - wine_type_loss: 0.0226 - wine_quality_root_mean_squared_error: 0.5414 - wine_type_accuracy: 0.9956 - val_loss: 0.3438 - val_wine_quality_loss: 0.3164 - val_wine_type_loss: 0.0274 - val_wine_quality_root_mean_squared_error: 0.5625 - val_wine_type_accuracy: 0.9949\n",
      "Epoch 85/180\n",
      "99/99 [==============================] - 0s 993us/step - loss: 0.3166 - wine_quality_loss: 0.2942 - wine_type_loss: 0.0225 - wine_quality_root_mean_squared_error: 0.5424 - wine_type_accuracy: 0.9956 - val_loss: 0.3355 - val_wine_quality_loss: 0.3082 - val_wine_type_loss: 0.0274 - val_wine_quality_root_mean_squared_error: 0.5551 - val_wine_type_accuracy: 0.9949\n",
      "Epoch 86/180\n",
      "99/99 [==============================] - 0s 967us/step - loss: 0.3148 - wine_quality_loss: 0.2924 - wine_type_loss: 0.0223 - wine_quality_root_mean_squared_error: 0.5408 - wine_type_accuracy: 0.9956 - val_loss: 0.3359 - val_wine_quality_loss: 0.3085 - val_wine_type_loss: 0.0274 - val_wine_quality_root_mean_squared_error: 0.5555 - val_wine_type_accuracy: 0.9949\n",
      "Epoch 87/180\n",
      "99/99 [==============================] - 0s 969us/step - loss: 0.3137 - wine_quality_loss: 0.2914 - wine_type_loss: 0.0222 - wine_quality_root_mean_squared_error: 0.5398 - wine_type_accuracy: 0.9956 - val_loss: 0.3341 - val_wine_quality_loss: 0.3068 - val_wine_type_loss: 0.0274 - val_wine_quality_root_mean_squared_error: 0.5539 - val_wine_type_accuracy: 0.9949\n"
     ]
    },
    {
     "name": "stdout",
     "output_type": "stream",
     "text": [
      "Epoch 88/180\n",
      "99/99 [==============================] - 0s 995us/step - loss: 0.3134 - wine_quality_loss: 0.2912 - wine_type_loss: 0.0221 - wine_quality_root_mean_squared_error: 0.5397 - wine_type_accuracy: 0.9956 - val_loss: 0.3413 - val_wine_quality_loss: 0.3141 - val_wine_type_loss: 0.0272 - val_wine_quality_root_mean_squared_error: 0.5604 - val_wine_type_accuracy: 0.9949\n",
      "Epoch 89/180\n",
      "99/99 [==============================] - 0s 1ms/step - loss: 0.3132 - wine_quality_loss: 0.2913 - wine_type_loss: 0.0219 - wine_quality_root_mean_squared_error: 0.5397 - wine_type_accuracy: 0.9956 - val_loss: 0.3367 - val_wine_quality_loss: 0.3094 - val_wine_type_loss: 0.0273 - val_wine_quality_root_mean_squared_error: 0.5562 - val_wine_type_accuracy: 0.9949\n",
      "Epoch 90/180\n",
      "99/99 [==============================] - 0s 957us/step - loss: 0.3128 - wine_quality_loss: 0.2910 - wine_type_loss: 0.0219 - wine_quality_root_mean_squared_error: 0.5394 - wine_type_accuracy: 0.9956 - val_loss: 0.3344 - val_wine_quality_loss: 0.3072 - val_wine_type_loss: 0.0272 - val_wine_quality_root_mean_squared_error: 0.5543 - val_wine_type_accuracy: 0.9949\n",
      "Epoch 91/180\n",
      "99/99 [==============================] - 0s 971us/step - loss: 0.3110 - wine_quality_loss: 0.2892 - wine_type_loss: 0.0218 - wine_quality_root_mean_squared_error: 0.5378 - wine_type_accuracy: 0.9956 - val_loss: 0.3419 - val_wine_quality_loss: 0.3146 - val_wine_type_loss: 0.0272 - val_wine_quality_root_mean_squared_error: 0.5609 - val_wine_type_accuracy: 0.9949\n",
      "Epoch 92/180\n",
      "99/99 [==============================] - 0s 961us/step - loss: 0.3106 - wine_quality_loss: 0.2889 - wine_type_loss: 0.0216 - wine_quality_root_mean_squared_error: 0.5375 - wine_type_accuracy: 0.9956 - val_loss: 0.3349 - val_wine_quality_loss: 0.3077 - val_wine_type_loss: 0.0271 - val_wine_quality_root_mean_squared_error: 0.5547 - val_wine_type_accuracy: 0.9949\n",
      "Epoch 93/180\n",
      "99/99 [==============================] - 0s 973us/step - loss: 0.3100 - wine_quality_loss: 0.2884 - wine_type_loss: 0.0216 - wine_quality_root_mean_squared_error: 0.5370 - wine_type_accuracy: 0.9956 - val_loss: 0.3333 - val_wine_quality_loss: 0.3061 - val_wine_type_loss: 0.0271 - val_wine_quality_root_mean_squared_error: 0.5533 - val_wine_type_accuracy: 0.9949\n",
      "Epoch 94/180\n",
      "99/99 [==============================] - 0s 952us/step - loss: 0.3098 - wine_quality_loss: 0.2883 - wine_type_loss: 0.0215 - wine_quality_root_mean_squared_error: 0.5369 - wine_type_accuracy: 0.9956 - val_loss: 0.3340 - val_wine_quality_loss: 0.3069 - val_wine_type_loss: 0.0271 - val_wine_quality_root_mean_squared_error: 0.5540 - val_wine_type_accuracy: 0.9949\n",
      "Epoch 95/180\n",
      "99/99 [==============================] - 0s 959us/step - loss: 0.3087 - wine_quality_loss: 0.2874 - wine_type_loss: 0.0213 - wine_quality_root_mean_squared_error: 0.5361 - wine_type_accuracy: 0.9956 - val_loss: 0.3397 - val_wine_quality_loss: 0.3126 - val_wine_type_loss: 0.0271 - val_wine_quality_root_mean_squared_error: 0.5592 - val_wine_type_accuracy: 0.9949\n",
      "Epoch 96/180\n",
      "99/99 [==============================] - 0s 977us/step - loss: 0.3084 - wine_quality_loss: 0.2871 - wine_type_loss: 0.0212 - wine_quality_root_mean_squared_error: 0.5359 - wine_type_accuracy: 0.9959 - val_loss: 0.3345 - val_wine_quality_loss: 0.3075 - val_wine_type_loss: 0.0270 - val_wine_quality_root_mean_squared_error: 0.5545 - val_wine_type_accuracy: 0.9949\n",
      "Epoch 97/180\n",
      "99/99 [==============================] - 0s 992us/step - loss: 0.3079 - wine_quality_loss: 0.2867 - wine_type_loss: 0.0211 - wine_quality_root_mean_squared_error: 0.5355 - wine_type_accuracy: 0.9956 - val_loss: 0.3365 - val_wine_quality_loss: 0.3094 - val_wine_type_loss: 0.0271 - val_wine_quality_root_mean_squared_error: 0.5562 - val_wine_type_accuracy: 0.9949\n",
      "Epoch 98/180\n",
      "99/99 [==============================] - 0s 956us/step - loss: 0.3069 - wine_quality_loss: 0.2859 - wine_type_loss: 0.0210 - wine_quality_root_mean_squared_error: 0.5347 - wine_type_accuracy: 0.9959 - val_loss: 0.3347 - val_wine_quality_loss: 0.3077 - val_wine_type_loss: 0.0270 - val_wine_quality_root_mean_squared_error: 0.5547 - val_wine_type_accuracy: 0.9949\n",
      "Epoch 99/180\n",
      "99/99 [==============================] - 0s 1ms/step - loss: 0.3064 - wine_quality_loss: 0.2854 - wine_type_loss: 0.0209 - wine_quality_root_mean_squared_error: 0.5343 - wine_type_accuracy: 0.9959 - val_loss: 0.3318 - val_wine_quality_loss: 0.3048 - val_wine_type_loss: 0.0269 - val_wine_quality_root_mean_squared_error: 0.5521 - val_wine_type_accuracy: 0.9949\n",
      "Epoch 100/180\n",
      "99/99 [==============================] - 0s 979us/step - loss: 0.3058 - wine_quality_loss: 0.2850 - wine_type_loss: 0.0207 - wine_quality_root_mean_squared_error: 0.5339 - wine_type_accuracy: 0.9959 - val_loss: 0.3326 - val_wine_quality_loss: 0.3056 - val_wine_type_loss: 0.0270 - val_wine_quality_root_mean_squared_error: 0.5528 - val_wine_type_accuracy: 0.9949\n",
      "Epoch 101/180\n",
      "99/99 [==============================] - 0s 955us/step - loss: 0.3057 - wine_quality_loss: 0.2851 - wine_type_loss: 0.0207 - wine_quality_root_mean_squared_error: 0.5339 - wine_type_accuracy: 0.9959 - val_loss: 0.3342 - val_wine_quality_loss: 0.3072 - val_wine_type_loss: 0.0270 - val_wine_quality_root_mean_squared_error: 0.5543 - val_wine_type_accuracy: 0.9949\n",
      "Epoch 102/180\n",
      "99/99 [==============================] - 0s 968us/step - loss: 0.3057 - wine_quality_loss: 0.2851 - wine_type_loss: 0.0206 - wine_quality_root_mean_squared_error: 0.5339 - wine_type_accuracy: 0.9959 - val_loss: 0.3343 - val_wine_quality_loss: 0.3074 - val_wine_type_loss: 0.0270 - val_wine_quality_root_mean_squared_error: 0.5544 - val_wine_type_accuracy: 0.9949\n",
      "Epoch 103/180\n",
      "99/99 [==============================] - 0s 941us/step - loss: 0.3042 - wine_quality_loss: 0.2837 - wine_type_loss: 0.0205 - wine_quality_root_mean_squared_error: 0.5326 - wine_type_accuracy: 0.9959 - val_loss: 0.3317 - val_wine_quality_loss: 0.3048 - val_wine_type_loss: 0.0269 - val_wine_quality_root_mean_squared_error: 0.5521 - val_wine_type_accuracy: 0.9949\n",
      "Epoch 104/180\n",
      "99/99 [==============================] - 0s 946us/step - loss: 0.3033 - wine_quality_loss: 0.2829 - wine_type_loss: 0.0204 - wine_quality_root_mean_squared_error: 0.5319 - wine_type_accuracy: 0.9962 - val_loss: 0.3338 - val_wine_quality_loss: 0.3068 - val_wine_type_loss: 0.0269 - val_wine_quality_root_mean_squared_error: 0.5539 - val_wine_type_accuracy: 0.9949\n",
      "Epoch 105/180\n",
      "99/99 [==============================] - 0s 966us/step - loss: 0.3026 - wine_quality_loss: 0.2823 - wine_type_loss: 0.0203 - wine_quality_root_mean_squared_error: 0.5313 - wine_type_accuracy: 0.9959 - val_loss: 0.3409 - val_wine_quality_loss: 0.3140 - val_wine_type_loss: 0.0269 - val_wine_quality_root_mean_squared_error: 0.5604 - val_wine_type_accuracy: 0.9949\n",
      "Epoch 106/180\n",
      "99/99 [==============================] - 0s 962us/step - loss: 0.3026 - wine_quality_loss: 0.2823 - wine_type_loss: 0.0203 - wine_quality_root_mean_squared_error: 0.5313 - wine_type_accuracy: 0.9962 - val_loss: 0.3360 - val_wine_quality_loss: 0.3091 - val_wine_type_loss: 0.0270 - val_wine_quality_root_mean_squared_error: 0.5559 - val_wine_type_accuracy: 0.9949\n",
      "Epoch 107/180\n",
      "99/99 [==============================] - 0s 1ms/step - loss: 0.3026 - wine_quality_loss: 0.2826 - wine_type_loss: 0.0201 - wine_quality_root_mean_squared_error: 0.5316 - wine_type_accuracy: 0.9962 - val_loss: 0.3339 - val_wine_quality_loss: 0.3070 - val_wine_type_loss: 0.0269 - val_wine_quality_root_mean_squared_error: 0.5541 - val_wine_type_accuracy: 0.9949\n",
      "Epoch 108/180\n",
      "99/99 [==============================] - 0s 1ms/step - loss: 0.3015 - wine_quality_loss: 0.2815 - wine_type_loss: 0.0200 - wine_quality_root_mean_squared_error: 0.5306 - wine_type_accuracy: 0.9962 - val_loss: 0.3360 - val_wine_quality_loss: 0.3090 - val_wine_type_loss: 0.0270 - val_wine_quality_root_mean_squared_error: 0.5559 - val_wine_type_accuracy: 0.9949\n",
      "Epoch 109/180\n",
      "99/99 [==============================] - 0s 991us/step - loss: 0.3019 - wine_quality_loss: 0.2819 - wine_type_loss: 0.0200 - wine_quality_root_mean_squared_error: 0.5309 - wine_type_accuracy: 0.9965 - val_loss: 0.3369 - val_wine_quality_loss: 0.3100 - val_wine_type_loss: 0.0269 - val_wine_quality_root_mean_squared_error: 0.5568 - val_wine_type_accuracy: 0.9949\n"
     ]
    },
    {
     "name": "stdout",
     "output_type": "stream",
     "text": [
      "Epoch 110/180\n",
      "99/99 [==============================] - 0s 1ms/step - loss: 0.3012 - wine_quality_loss: 0.2815 - wine_type_loss: 0.0198 - wine_quality_root_mean_squared_error: 0.5305 - wine_type_accuracy: 0.9962 - val_loss: 0.3350 - val_wine_quality_loss: 0.3080 - val_wine_type_loss: 0.0270 - val_wine_quality_root_mean_squared_error: 0.5550 - val_wine_type_accuracy: 0.9949\n",
      "Epoch 111/180\n",
      "99/99 [==============================] - 0s 950us/step - loss: 0.3007 - wine_quality_loss: 0.2809 - wine_type_loss: 0.0198 - wine_quality_root_mean_squared_error: 0.5300 - wine_type_accuracy: 0.9965 - val_loss: 0.3387 - val_wine_quality_loss: 0.3117 - val_wine_type_loss: 0.0269 - val_wine_quality_root_mean_squared_error: 0.5583 - val_wine_type_accuracy: 0.9949\n",
      "Epoch 112/180\n",
      "99/99 [==============================] - 0s 958us/step - loss: 0.3001 - wine_quality_loss: 0.2804 - wine_type_loss: 0.0197 - wine_quality_root_mean_squared_error: 0.5296 - wine_type_accuracy: 0.9965 - val_loss: 0.3340 - val_wine_quality_loss: 0.3072 - val_wine_type_loss: 0.0268 - val_wine_quality_root_mean_squared_error: 0.5543 - val_wine_type_accuracy: 0.9949\n",
      "Epoch 113/180\n",
      "99/99 [==============================] - 0s 941us/step - loss: 0.2993 - wine_quality_loss: 0.2798 - wine_type_loss: 0.0195 - wine_quality_root_mean_squared_error: 0.5289 - wine_type_accuracy: 0.9965 - val_loss: 0.3381 - val_wine_quality_loss: 0.3112 - val_wine_type_loss: 0.0269 - val_wine_quality_root_mean_squared_error: 0.5578 - val_wine_type_accuracy: 0.9949\n",
      "Epoch 114/180\n",
      "99/99 [==============================] - 0s 955us/step - loss: 0.2995 - wine_quality_loss: 0.2800 - wine_type_loss: 0.0195 - wine_quality_root_mean_squared_error: 0.5292 - wine_type_accuracy: 0.9962 - val_loss: 0.3334 - val_wine_quality_loss: 0.3066 - val_wine_type_loss: 0.0268 - val_wine_quality_root_mean_squared_error: 0.5538 - val_wine_type_accuracy: 0.9949\n",
      "Epoch 115/180\n",
      "99/99 [==============================] - 0s 993us/step - loss: 0.2991 - wine_quality_loss: 0.2797 - wine_type_loss: 0.0194 - wine_quality_root_mean_squared_error: 0.5289 - wine_type_accuracy: 0.9965 - val_loss: 0.3377 - val_wine_quality_loss: 0.3110 - val_wine_type_loss: 0.0267 - val_wine_quality_root_mean_squared_error: 0.5577 - val_wine_type_accuracy: 0.9949\n",
      "Epoch 116/180\n",
      "99/99 [==============================] - 0s 959us/step - loss: 0.2973 - wine_quality_loss: 0.2780 - wine_type_loss: 0.0193 - wine_quality_root_mean_squared_error: 0.5273 - wine_type_accuracy: 0.9965 - val_loss: 0.3383 - val_wine_quality_loss: 0.3115 - val_wine_type_loss: 0.0268 - val_wine_quality_root_mean_squared_error: 0.5581 - val_wine_type_accuracy: 0.9949\n",
      "Epoch 117/180\n",
      "99/99 [==============================] - 0s 949us/step - loss: 0.2990 - wine_quality_loss: 0.2798 - wine_type_loss: 0.0192 - wine_quality_root_mean_squared_error: 0.5289 - wine_type_accuracy: 0.9965 - val_loss: 0.3392 - val_wine_quality_loss: 0.3125 - val_wine_type_loss: 0.0267 - val_wine_quality_root_mean_squared_error: 0.5590 - val_wine_type_accuracy: 0.9949\n",
      "Epoch 118/180\n",
      "99/99 [==============================] - 0s 1ms/step - loss: 0.2973 - wine_quality_loss: 0.2782 - wine_type_loss: 0.0191 - wine_quality_root_mean_squared_error: 0.5274 - wine_type_accuracy: 0.9965 - val_loss: 0.3344 - val_wine_quality_loss: 0.3077 - val_wine_type_loss: 0.0267 - val_wine_quality_root_mean_squared_error: 0.5547 - val_wine_type_accuracy: 0.9949\n",
      "Epoch 119/180\n",
      "99/99 [==============================] - 0s 972us/step - loss: 0.2975 - wine_quality_loss: 0.2785 - wine_type_loss: 0.0190 - wine_quality_root_mean_squared_error: 0.5277 - wine_type_accuracy: 0.9965 - val_loss: 0.3346 - val_wine_quality_loss: 0.3080 - val_wine_type_loss: 0.0266 - val_wine_quality_root_mean_squared_error: 0.5550 - val_wine_type_accuracy: 0.9949\n",
      "Epoch 120/180\n",
      "99/99 [==============================] - 0s 956us/step - loss: 0.2970 - wine_quality_loss: 0.2780 - wine_type_loss: 0.0190 - wine_quality_root_mean_squared_error: 0.5273 - wine_type_accuracy: 0.9965 - val_loss: 0.3318 - val_wine_quality_loss: 0.3052 - val_wine_type_loss: 0.0266 - val_wine_quality_root_mean_squared_error: 0.5525 - val_wine_type_accuracy: 0.9949\n",
      "Epoch 121/180\n",
      "99/99 [==============================] - 0s 976us/step - loss: 0.2963 - wine_quality_loss: 0.2774 - wine_type_loss: 0.0189 - wine_quality_root_mean_squared_error: 0.5267 - wine_type_accuracy: 0.9965 - val_loss: 0.3325 - val_wine_quality_loss: 0.3059 - val_wine_type_loss: 0.0266 - val_wine_quality_root_mean_squared_error: 0.5531 - val_wine_type_accuracy: 0.9949\n",
      "Epoch 122/180\n",
      "99/99 [==============================] - 0s 952us/step - loss: 0.2955 - wine_quality_loss: 0.2767 - wine_type_loss: 0.0187 - wine_quality_root_mean_squared_error: 0.5261 - wine_type_accuracy: 0.9965 - val_loss: 0.3346 - val_wine_quality_loss: 0.3080 - val_wine_type_loss: 0.0266 - val_wine_quality_root_mean_squared_error: 0.5550 - val_wine_type_accuracy: 0.9949\n",
      "Epoch 123/180\n",
      "99/99 [==============================] - 0s 960us/step - loss: 0.2953 - wine_quality_loss: 0.2766 - wine_type_loss: 0.0186 - wine_quality_root_mean_squared_error: 0.5260 - wine_type_accuracy: 0.9965 - val_loss: 0.3361 - val_wine_quality_loss: 0.3094 - val_wine_type_loss: 0.0267 - val_wine_quality_root_mean_squared_error: 0.5562 - val_wine_type_accuracy: 0.9949\n",
      "Epoch 124/180\n",
      "99/99 [==============================] - 0s 973us/step - loss: 0.2950 - wine_quality_loss: 0.2762 - wine_type_loss: 0.0188 - wine_quality_root_mean_squared_error: 0.5256 - wine_type_accuracy: 0.9965 - val_loss: 0.3317 - val_wine_quality_loss: 0.3050 - val_wine_type_loss: 0.0267 - val_wine_quality_root_mean_squared_error: 0.5523 - val_wine_type_accuracy: 0.9949\n",
      "Epoch 125/180\n",
      "99/99 [==============================] - 0s 982us/step - loss: 0.2947 - wine_quality_loss: 0.2761 - wine_type_loss: 0.0186 - wine_quality_root_mean_squared_error: 0.5255 - wine_type_accuracy: 0.9965 - val_loss: 0.3362 - val_wine_quality_loss: 0.3096 - val_wine_type_loss: 0.0266 - val_wine_quality_root_mean_squared_error: 0.5564 - val_wine_type_accuracy: 0.9949\n",
      "Epoch 126/180\n",
      "99/99 [==============================] - 0s 948us/step - loss: 0.2935 - wine_quality_loss: 0.2749 - wine_type_loss: 0.0185 - wine_quality_root_mean_squared_error: 0.5243 - wine_type_accuracy: 0.9965 - val_loss: 0.3315 - val_wine_quality_loss: 0.3048 - val_wine_type_loss: 0.0267 - val_wine_quality_root_mean_squared_error: 0.5521 - val_wine_type_accuracy: 0.9949\n",
      "Epoch 127/180\n",
      "99/99 [==============================] - 0s 951us/step - loss: 0.2928 - wine_quality_loss: 0.2744 - wine_type_loss: 0.0184 - wine_quality_root_mean_squared_error: 0.5239 - wine_type_accuracy: 0.9965 - val_loss: 0.3409 - val_wine_quality_loss: 0.3143 - val_wine_type_loss: 0.0266 - val_wine_quality_root_mean_squared_error: 0.5606 - val_wine_type_accuracy: 0.9949\n",
      "Epoch 128/180\n",
      "99/99 [==============================] - 0s 959us/step - loss: 0.2933 - wine_quality_loss: 0.2750 - wine_type_loss: 0.0183 - wine_quality_root_mean_squared_error: 0.5244 - wine_type_accuracy: 0.9965 - val_loss: 0.3329 - val_wine_quality_loss: 0.3062 - val_wine_type_loss: 0.0267 - val_wine_quality_root_mean_squared_error: 0.5534 - val_wine_type_accuracy: 0.9949\n",
      "Epoch 129/180\n",
      "99/99 [==============================] - 0s 954us/step - loss: 0.2927 - wine_quality_loss: 0.2744 - wine_type_loss: 0.0183 - wine_quality_root_mean_squared_error: 0.5238 - wine_type_accuracy: 0.9965 - val_loss: 0.3397 - val_wine_quality_loss: 0.3131 - val_wine_type_loss: 0.0267 - val_wine_quality_root_mean_squared_error: 0.5595 - val_wine_type_accuracy: 0.9949\n",
      "Epoch 130/180\n",
      "99/99 [==============================] - 0s 934us/step - loss: 0.2927 - wine_quality_loss: 0.2745 - wine_type_loss: 0.0183 - wine_quality_root_mean_squared_error: 0.5239 - wine_type_accuracy: 0.9965 - val_loss: 0.3397 - val_wine_quality_loss: 0.3131 - val_wine_type_loss: 0.0266 - val_wine_quality_root_mean_squared_error: 0.5596 - val_wine_type_accuracy: 0.9949\n",
      "Epoch 131/180\n",
      "99/99 [==============================] - 0s 977us/step - loss: 0.2918 - wine_quality_loss: 0.2737 - wine_type_loss: 0.0181 - wine_quality_root_mean_squared_error: 0.5231 - wine_type_accuracy: 0.9965 - val_loss: 0.3326 - val_wine_quality_loss: 0.3060 - val_wine_type_loss: 0.0265 - val_wine_quality_root_mean_squared_error: 0.5532 - val_wine_type_accuracy: 0.9949\n"
     ]
    },
    {
     "name": "stdout",
     "output_type": "stream",
     "text": [
      "Epoch 132/180\n",
      "99/99 [==============================] - 0s 945us/step - loss: 0.2913 - wine_quality_loss: 0.2732 - wine_type_loss: 0.0181 - wine_quality_root_mean_squared_error: 0.5227 - wine_type_accuracy: 0.9965 - val_loss: 0.3382 - val_wine_quality_loss: 0.3115 - val_wine_type_loss: 0.0267 - val_wine_quality_root_mean_squared_error: 0.5581 - val_wine_type_accuracy: 0.9949\n",
      "Epoch 133/180\n",
      "99/99 [==============================] - 0s 997us/step - loss: 0.2916 - wine_quality_loss: 0.2736 - wine_type_loss: 0.0180 - wine_quality_root_mean_squared_error: 0.5230 - wine_type_accuracy: 0.9965 - val_loss: 0.3334 - val_wine_quality_loss: 0.3067 - val_wine_type_loss: 0.0266 - val_wine_quality_root_mean_squared_error: 0.5538 - val_wine_type_accuracy: 0.9949\n",
      "Epoch 134/180\n",
      "99/99 [==============================] - 0s 964us/step - loss: 0.2908 - wine_quality_loss: 0.2728 - wine_type_loss: 0.0179 - wine_quality_root_mean_squared_error: 0.5223 - wine_type_accuracy: 0.9965 - val_loss: 0.3383 - val_wine_quality_loss: 0.3117 - val_wine_type_loss: 0.0266 - val_wine_quality_root_mean_squared_error: 0.5583 - val_wine_type_accuracy: 0.9949\n",
      "Epoch 135/180\n",
      "99/99 [==============================] - 0s 946us/step - loss: 0.2903 - wine_quality_loss: 0.2725 - wine_type_loss: 0.0178 - wine_quality_root_mean_squared_error: 0.5220 - wine_type_accuracy: 0.9965 - val_loss: 0.3317 - val_wine_quality_loss: 0.3051 - val_wine_type_loss: 0.0266 - val_wine_quality_root_mean_squared_error: 0.5524 - val_wine_type_accuracy: 0.9949\n",
      "Epoch 136/180\n",
      "99/99 [==============================] - 0s 938us/step - loss: 0.2901 - wine_quality_loss: 0.2723 - wine_type_loss: 0.0177 - wine_quality_root_mean_squared_error: 0.5219 - wine_type_accuracy: 0.9965 - val_loss: 0.3347 - val_wine_quality_loss: 0.3081 - val_wine_type_loss: 0.0266 - val_wine_quality_root_mean_squared_error: 0.5551 - val_wine_type_accuracy: 0.9949\n",
      "Epoch 137/180\n",
      "99/99 [==============================] - 0s 972us/step - loss: 0.2903 - wine_quality_loss: 0.2726 - wine_type_loss: 0.0177 - wine_quality_root_mean_squared_error: 0.5221 - wine_type_accuracy: 0.9965 - val_loss: 0.3357 - val_wine_quality_loss: 0.3092 - val_wine_type_loss: 0.0265 - val_wine_quality_root_mean_squared_error: 0.5561 - val_wine_type_accuracy: 0.9949\n",
      "Epoch 138/180\n",
      "99/99 [==============================] - 0s 992us/step - loss: 0.2896 - wine_quality_loss: 0.2720 - wine_type_loss: 0.0176 - wine_quality_root_mean_squared_error: 0.5215 - wine_type_accuracy: 0.9965 - val_loss: 0.3352 - val_wine_quality_loss: 0.3087 - val_wine_type_loss: 0.0265 - val_wine_quality_root_mean_squared_error: 0.5556 - val_wine_type_accuracy: 0.9949\n",
      "Epoch 139/180\n",
      "99/99 [==============================] - 0s 952us/step - loss: 0.2891 - wine_quality_loss: 0.2715 - wine_type_loss: 0.0176 - wine_quality_root_mean_squared_error: 0.5211 - wine_type_accuracy: 0.9965 - val_loss: 0.3390 - val_wine_quality_loss: 0.3125 - val_wine_type_loss: 0.0265 - val_wine_quality_root_mean_squared_error: 0.5590 - val_wine_type_accuracy: 0.9949\n",
      "Epoch 140/180\n",
      "99/99 [==============================] - 0s 936us/step - loss: 0.2889 - wine_quality_loss: 0.2714 - wine_type_loss: 0.0175 - wine_quality_root_mean_squared_error: 0.5209 - wine_type_accuracy: 0.9965 - val_loss: 0.3451 - val_wine_quality_loss: 0.3186 - val_wine_type_loss: 0.0265 - val_wine_quality_root_mean_squared_error: 0.5645 - val_wine_type_accuracy: 0.9949\n",
      "Epoch 141/180\n",
      "99/99 [==============================] - 0s 945us/step - loss: 0.2889 - wine_quality_loss: 0.2715 - wine_type_loss: 0.0174 - wine_quality_root_mean_squared_error: 0.5211 - wine_type_accuracy: 0.9965 - val_loss: 0.3370 - val_wine_quality_loss: 0.3106 - val_wine_type_loss: 0.0264 - val_wine_quality_root_mean_squared_error: 0.5573 - val_wine_type_accuracy: 0.9949\n",
      "Epoch 142/180\n",
      "99/99 [==============================] - 0s 961us/step - loss: 0.2885 - wine_quality_loss: 0.2712 - wine_type_loss: 0.0174 - wine_quality_root_mean_squared_error: 0.5207 - wine_type_accuracy: 0.9965 - val_loss: 0.3373 - val_wine_quality_loss: 0.3109 - val_wine_type_loss: 0.0264 - val_wine_quality_root_mean_squared_error: 0.5576 - val_wine_type_accuracy: 0.9949\n",
      "Epoch 143/180\n",
      "99/99 [==============================] - 0s 944us/step - loss: 0.2876 - wine_quality_loss: 0.2703 - wine_type_loss: 0.0173 - wine_quality_root_mean_squared_error: 0.5199 - wine_type_accuracy: 0.9965 - val_loss: 0.3382 - val_wine_quality_loss: 0.3117 - val_wine_type_loss: 0.0265 - val_wine_quality_root_mean_squared_error: 0.5583 - val_wine_type_accuracy: 0.9949\n",
      "Epoch 144/180\n",
      "99/99 [==============================] - 0s 963us/step - loss: 0.2862 - wine_quality_loss: 0.2689 - wine_type_loss: 0.0173 - wine_quality_root_mean_squared_error: 0.5186 - wine_type_accuracy: 0.9965 - val_loss: 0.3340 - val_wine_quality_loss: 0.3075 - val_wine_type_loss: 0.0264 - val_wine_quality_root_mean_squared_error: 0.5546 - val_wine_type_accuracy: 0.9949\n",
      "Epoch 145/180\n",
      "99/99 [==============================] - 0s 976us/step - loss: 0.2873 - wine_quality_loss: 0.2702 - wine_type_loss: 0.0171 - wine_quality_root_mean_squared_error: 0.5198 - wine_type_accuracy: 0.9965 - val_loss: 0.3333 - val_wine_quality_loss: 0.3069 - val_wine_type_loss: 0.0264 - val_wine_quality_root_mean_squared_error: 0.5540 - val_wine_type_accuracy: 0.9949\n",
      "Epoch 146/180\n",
      "99/99 [==============================] - 0s 949us/step - loss: 0.2866 - wine_quality_loss: 0.2695 - wine_type_loss: 0.0171 - wine_quality_root_mean_squared_error: 0.5191 - wine_type_accuracy: 0.9965 - val_loss: 0.3335 - val_wine_quality_loss: 0.3071 - val_wine_type_loss: 0.0264 - val_wine_quality_root_mean_squared_error: 0.5541 - val_wine_type_accuracy: 0.9949\n",
      "Epoch 147/180\n",
      "99/99 [==============================] - 0s 956us/step - loss: 0.2854 - wine_quality_loss: 0.2683 - wine_type_loss: 0.0171 - wine_quality_root_mean_squared_error: 0.5180 - wine_type_accuracy: 0.9965 - val_loss: 0.3359 - val_wine_quality_loss: 0.3094 - val_wine_type_loss: 0.0264 - val_wine_quality_root_mean_squared_error: 0.5562 - val_wine_type_accuracy: 0.9949\n",
      "Epoch 148/180\n",
      "99/99 [==============================] - 0s 950us/step - loss: 0.2860 - wine_quality_loss: 0.2690 - wine_type_loss: 0.0170 - wine_quality_root_mean_squared_error: 0.5186 - wine_type_accuracy: 0.9965 - val_loss: 0.3459 - val_wine_quality_loss: 0.3195 - val_wine_type_loss: 0.0264 - val_wine_quality_root_mean_squared_error: 0.5652 - val_wine_type_accuracy: 0.9949\n",
      "Epoch 149/180\n",
      "99/99 [==============================] - 0s 960us/step - loss: 0.2855 - wine_quality_loss: 0.2685 - wine_type_loss: 0.0169 - wine_quality_root_mean_squared_error: 0.5182 - wine_type_accuracy: 0.9965 - val_loss: 0.3328 - val_wine_quality_loss: 0.3064 - val_wine_type_loss: 0.0264 - val_wine_quality_root_mean_squared_error: 0.5536 - val_wine_type_accuracy: 0.9949\n",
      "Epoch 150/180\n",
      "99/99 [==============================] - 0s 984us/step - loss: 0.2847 - wine_quality_loss: 0.2679 - wine_type_loss: 0.0168 - wine_quality_root_mean_squared_error: 0.5175 - wine_type_accuracy: 0.9965 - val_loss: 0.3337 - val_wine_quality_loss: 0.3073 - val_wine_type_loss: 0.0264 - val_wine_quality_root_mean_squared_error: 0.5543 - val_wine_type_accuracy: 0.9949\n",
      "Epoch 151/180\n",
      "99/99 [==============================] - 0s 954us/step - loss: 0.2842 - wine_quality_loss: 0.2675 - wine_type_loss: 0.0167 - wine_quality_root_mean_squared_error: 0.5172 - wine_type_accuracy: 0.9965 - val_loss: 0.3336 - val_wine_quality_loss: 0.3072 - val_wine_type_loss: 0.0264 - val_wine_quality_root_mean_squared_error: 0.5543 - val_wine_type_accuracy: 0.9949\n",
      "Epoch 152/180\n",
      "99/99 [==============================] - 0s 1ms/step - loss: 0.2852 - wine_quality_loss: 0.2685 - wine_type_loss: 0.0167 - wine_quality_root_mean_squared_error: 0.5182 - wine_type_accuracy: 0.9965 - val_loss: 0.3335 - val_wine_quality_loss: 0.3071 - val_wine_type_loss: 0.0264 - val_wine_quality_root_mean_squared_error: 0.5541 - val_wine_type_accuracy: 0.9949\n",
      "Epoch 153/180\n",
      "99/99 [==============================] - 0s 1ms/step - loss: 0.2852 - wine_quality_loss: 0.2685 - wine_type_loss: 0.0166 - wine_quality_root_mean_squared_error: 0.5182 - wine_type_accuracy: 0.9965 - val_loss: 0.3364 - val_wine_quality_loss: 0.3101 - val_wine_type_loss: 0.0263 - val_wine_quality_root_mean_squared_error: 0.5569 - val_wine_type_accuracy: 0.9949\n"
     ]
    },
    {
     "name": "stdout",
     "output_type": "stream",
     "text": [
      "Epoch 154/180\n",
      "99/99 [==============================] - 0s 967us/step - loss: 0.2839 - wine_quality_loss: 0.2672 - wine_type_loss: 0.0166 - wine_quality_root_mean_squared_error: 0.5170 - wine_type_accuracy: 0.9965 - val_loss: 0.3362 - val_wine_quality_loss: 0.3098 - val_wine_type_loss: 0.0264 - val_wine_quality_root_mean_squared_error: 0.5566 - val_wine_type_accuracy: 0.9949\n",
      "Epoch 155/180\n",
      "99/99 [==============================] - 0s 1ms/step - loss: 0.2828 - wine_quality_loss: 0.2663 - wine_type_loss: 0.0165 - wine_quality_root_mean_squared_error: 0.5160 - wine_type_accuracy: 0.9965 - val_loss: 0.3332 - val_wine_quality_loss: 0.3068 - val_wine_type_loss: 0.0264 - val_wine_quality_root_mean_squared_error: 0.5539 - val_wine_type_accuracy: 0.9949\n",
      "Epoch 156/180\n",
      "99/99 [==============================] - 0s 984us/step - loss: 0.2821 - wine_quality_loss: 0.2657 - wine_type_loss: 0.0165 - wine_quality_root_mean_squared_error: 0.5154 - wine_type_accuracy: 0.9965 - val_loss: 0.3322 - val_wine_quality_loss: 0.3058 - val_wine_type_loss: 0.0264 - val_wine_quality_root_mean_squared_error: 0.5530 - val_wine_type_accuracy: 0.9949\n",
      "Epoch 157/180\n",
      "99/99 [==============================] - 0s 932us/step - loss: 0.2831 - wine_quality_loss: 0.2667 - wine_type_loss: 0.0164 - wine_quality_root_mean_squared_error: 0.5165 - wine_type_accuracy: 0.9965 - val_loss: 0.3429 - val_wine_quality_loss: 0.3164 - val_wine_type_loss: 0.0264 - val_wine_quality_root_mean_squared_error: 0.5625 - val_wine_type_accuracy: 0.9949\n",
      "Epoch 158/180\n",
      "99/99 [==============================] - 0s 1ms/step - loss: 0.2824 - wine_quality_loss: 0.2660 - wine_type_loss: 0.0164 - wine_quality_root_mean_squared_error: 0.5158 - wine_type_accuracy: 0.9965 - val_loss: 0.3305 - val_wine_quality_loss: 0.3041 - val_wine_type_loss: 0.0264 - val_wine_quality_root_mean_squared_error: 0.5514 - val_wine_type_accuracy: 0.9949\n",
      "Epoch 159/180\n",
      "99/99 [==============================] - 0s 1ms/step - loss: 0.2814 - wine_quality_loss: 0.2651 - wine_type_loss: 0.0163 - wine_quality_root_mean_squared_error: 0.5149 - wine_type_accuracy: 0.9965 - val_loss: 0.3407 - val_wine_quality_loss: 0.3143 - val_wine_type_loss: 0.0264 - val_wine_quality_root_mean_squared_error: 0.5606 - val_wine_type_accuracy: 0.9949\n",
      "Epoch 160/180\n",
      "99/99 [==============================] - 0s 974us/step - loss: 0.2818 - wine_quality_loss: 0.2657 - wine_type_loss: 0.0161 - wine_quality_root_mean_squared_error: 0.5154 - wine_type_accuracy: 0.9965 - val_loss: 0.3339 - val_wine_quality_loss: 0.3075 - val_wine_type_loss: 0.0264 - val_wine_quality_root_mean_squared_error: 0.5545 - val_wine_type_accuracy: 0.9949\n",
      "Epoch 161/180\n",
      "99/99 [==============================] - 0s 991us/step - loss: 0.2815 - wine_quality_loss: 0.2652 - wine_type_loss: 0.0162 - wine_quality_root_mean_squared_error: 0.5150 - wine_type_accuracy: 0.9965 - val_loss: 0.3334 - val_wine_quality_loss: 0.3070 - val_wine_type_loss: 0.0264 - val_wine_quality_root_mean_squared_error: 0.5541 - val_wine_type_accuracy: 0.9949\n",
      "Epoch 162/180\n",
      "99/99 [==============================] - 0s 978us/step - loss: 0.2808 - wine_quality_loss: 0.2647 - wine_type_loss: 0.0161 - wine_quality_root_mean_squared_error: 0.5145 - wine_type_accuracy: 0.9965 - val_loss: 0.3318 - val_wine_quality_loss: 0.3054 - val_wine_type_loss: 0.0264 - val_wine_quality_root_mean_squared_error: 0.5526 - val_wine_type_accuracy: 0.9949\n",
      "Epoch 163/180\n",
      "99/99 [==============================] - 0s 929us/step - loss: 0.2802 - wine_quality_loss: 0.2642 - wine_type_loss: 0.0160 - wine_quality_root_mean_squared_error: 0.5140 - wine_type_accuracy: 0.9965 - val_loss: 0.3393 - val_wine_quality_loss: 0.3128 - val_wine_type_loss: 0.0265 - val_wine_quality_root_mean_squared_error: 0.5593 - val_wine_type_accuracy: 0.9949\n",
      "Epoch 164/180\n",
      "99/99 [==============================] - 0s 942us/step - loss: 0.2803 - wine_quality_loss: 0.2643 - wine_type_loss: 0.0160 - wine_quality_root_mean_squared_error: 0.5141 - wine_type_accuracy: 0.9965 - val_loss: 0.3304 - val_wine_quality_loss: 0.3041 - val_wine_type_loss: 0.0264 - val_wine_quality_root_mean_squared_error: 0.5514 - val_wine_type_accuracy: 0.9949\n",
      "Epoch 165/180\n",
      "99/99 [==============================] - 0s 999us/step - loss: 0.2799 - wine_quality_loss: 0.2639 - wine_type_loss: 0.0160 - wine_quality_root_mean_squared_error: 0.5137 - wine_type_accuracy: 0.9965 - val_loss: 0.3326 - val_wine_quality_loss: 0.3061 - val_wine_type_loss: 0.0264 - val_wine_quality_root_mean_squared_error: 0.5533 - val_wine_type_accuracy: 0.9949\n",
      "Epoch 166/180\n",
      "99/99 [==============================] - 0s 989us/step - loss: 0.2800 - wine_quality_loss: 0.2641 - wine_type_loss: 0.0159 - wine_quality_root_mean_squared_error: 0.5139 - wine_type_accuracy: 0.9965 - val_loss: 0.3359 - val_wine_quality_loss: 0.3095 - val_wine_type_loss: 0.0264 - val_wine_quality_root_mean_squared_error: 0.5564 - val_wine_type_accuracy: 0.9949\n",
      "Epoch 167/180\n",
      "99/99 [==============================] - 0s 967us/step - loss: 0.2787 - wine_quality_loss: 0.2630 - wine_type_loss: 0.0158 - wine_quality_root_mean_squared_error: 0.5128 - wine_type_accuracy: 0.9965 - val_loss: 0.3345 - val_wine_quality_loss: 0.3080 - val_wine_type_loss: 0.0265 - val_wine_quality_root_mean_squared_error: 0.5550 - val_wine_type_accuracy: 0.9949\n",
      "Epoch 168/180\n",
      "99/99 [==============================] - 0s 953us/step - loss: 0.2790 - wine_quality_loss: 0.2632 - wine_type_loss: 0.0158 - wine_quality_root_mean_squared_error: 0.5130 - wine_type_accuracy: 0.9965 - val_loss: 0.3323 - val_wine_quality_loss: 0.3058 - val_wine_type_loss: 0.0265 - val_wine_quality_root_mean_squared_error: 0.5530 - val_wine_type_accuracy: 0.9949\n",
      "Epoch 169/180\n",
      "99/99 [==============================] - 0s 979us/step - loss: 0.2787 - wine_quality_loss: 0.2631 - wine_type_loss: 0.0157 - wine_quality_root_mean_squared_error: 0.5129 - wine_type_accuracy: 0.9965 - val_loss: 0.3323 - val_wine_quality_loss: 0.3058 - val_wine_type_loss: 0.0265 - val_wine_quality_root_mean_squared_error: 0.5530 - val_wine_type_accuracy: 0.9949\n",
      "Epoch 170/180\n",
      "99/99 [==============================] - 0s 987us/step - loss: 0.2782 - wine_quality_loss: 0.2625 - wine_type_loss: 0.0157 - wine_quality_root_mean_squared_error: 0.5123 - wine_type_accuracy: 0.9965 - val_loss: 0.3318 - val_wine_quality_loss: 0.3054 - val_wine_type_loss: 0.0265 - val_wine_quality_root_mean_squared_error: 0.5526 - val_wine_type_accuracy: 0.9949\n",
      "Epoch 171/180\n",
      "99/99 [==============================] - 0s 957us/step - loss: 0.2772 - wine_quality_loss: 0.2616 - wine_type_loss: 0.0157 - wine_quality_root_mean_squared_error: 0.5114 - wine_type_accuracy: 0.9965 - val_loss: 0.3374 - val_wine_quality_loss: 0.3109 - val_wine_type_loss: 0.0266 - val_wine_quality_root_mean_squared_error: 0.5575 - val_wine_type_accuracy: 0.9949\n",
      "Epoch 172/180\n",
      "99/99 [==============================] - 0s 995us/step - loss: 0.2779 - wine_quality_loss: 0.2623 - wine_type_loss: 0.0156 - wine_quality_root_mean_squared_error: 0.5121 - wine_type_accuracy: 0.9965 - val_loss: 0.3413 - val_wine_quality_loss: 0.3146 - val_wine_type_loss: 0.0266 - val_wine_quality_root_mean_squared_error: 0.5609 - val_wine_type_accuracy: 0.9949\n",
      "Epoch 173/180\n",
      "99/99 [==============================] - 0s 975us/step - loss: 0.2775 - wine_quality_loss: 0.2620 - wine_type_loss: 0.0155 - wine_quality_root_mean_squared_error: 0.5119 - wine_type_accuracy: 0.9965 - val_loss: 0.3357 - val_wine_quality_loss: 0.3093 - val_wine_type_loss: 0.0265 - val_wine_quality_root_mean_squared_error: 0.5561 - val_wine_type_accuracy: 0.9949\n",
      "Epoch 174/180\n",
      "99/99 [==============================] - 0s 989us/step - loss: 0.2776 - wine_quality_loss: 0.2621 - wine_type_loss: 0.0155 - wine_quality_root_mean_squared_error: 0.5120 - wine_type_accuracy: 0.9965 - val_loss: 0.3454 - val_wine_quality_loss: 0.3188 - val_wine_type_loss: 0.0265 - val_wine_quality_root_mean_squared_error: 0.5646 - val_wine_type_accuracy: 0.9949\n",
      "Epoch 175/180\n",
      "99/99 [==============================] - 0s 938us/step - loss: 0.2767 - wine_quality_loss: 0.2613 - wine_type_loss: 0.0154 - wine_quality_root_mean_squared_error: 0.5112 - wine_type_accuracy: 0.9965 - val_loss: 0.3353 - val_wine_quality_loss: 0.3088 - val_wine_type_loss: 0.0264 - val_wine_quality_root_mean_squared_error: 0.5557 - val_wine_type_accuracy: 0.9949\n"
     ]
    },
    {
     "name": "stdout",
     "output_type": "stream",
     "text": [
      "Epoch 176/180\n",
      "99/99 [==============================] - 0s 996us/step - loss: 0.2775 - wine_quality_loss: 0.2621 - wine_type_loss: 0.0154 - wine_quality_root_mean_squared_error: 0.5120 - wine_type_accuracy: 0.9965 - val_loss: 0.3376 - val_wine_quality_loss: 0.3111 - val_wine_type_loss: 0.0265 - val_wine_quality_root_mean_squared_error: 0.5578 - val_wine_type_accuracy: 0.9949\n",
      "Epoch 177/180\n",
      "99/99 [==============================] - 0s 984us/step - loss: 0.2758 - wine_quality_loss: 0.2606 - wine_type_loss: 0.0153 - wine_quality_root_mean_squared_error: 0.5105 - wine_type_accuracy: 0.9965 - val_loss: 0.3379 - val_wine_quality_loss: 0.3113 - val_wine_type_loss: 0.0265 - val_wine_quality_root_mean_squared_error: 0.5580 - val_wine_type_accuracy: 0.9949\n",
      "Epoch 178/180\n",
      "99/99 [==============================] - 0s 1ms/step - loss: 0.2753 - wine_quality_loss: 0.2601 - wine_type_loss: 0.0152 - wine_quality_root_mean_squared_error: 0.5100 - wine_type_accuracy: 0.9965 - val_loss: 0.3342 - val_wine_quality_loss: 0.3077 - val_wine_type_loss: 0.0265 - val_wine_quality_root_mean_squared_error: 0.5547 - val_wine_type_accuracy: 0.9949\n",
      "Epoch 179/180\n",
      "99/99 [==============================] - 0s 965us/step - loss: 0.2757 - wine_quality_loss: 0.2605 - wine_type_loss: 0.0152 - wine_quality_root_mean_squared_error: 0.5104 - wine_type_accuracy: 0.9965 - val_loss: 0.3330 - val_wine_quality_loss: 0.3066 - val_wine_type_loss: 0.0264 - val_wine_quality_root_mean_squared_error: 0.5538 - val_wine_type_accuracy: 0.9949\n",
      "Epoch 180/180\n",
      "99/99 [==============================] - 0s 960us/step - loss: 0.2746 - wine_quality_loss: 0.2595 - wine_type_loss: 0.0151 - wine_quality_root_mean_squared_error: 0.5094 - wine_type_accuracy: 0.9965 - val_loss: 0.3384 - val_wine_quality_loss: 0.3119 - val_wine_type_loss: 0.0265 - val_wine_quality_root_mean_squared_error: 0.5584 - val_wine_type_accuracy: 0.9949\n"
     ]
    }
   ],
   "source": [
    "# Please uncomment all lines in this cell and replace those marked with `# YOUR CODE HERE`.\n",
    "# You can select all lines in this code cell with Ctrl+A (Windows/Linux) or Cmd+A (Mac), then press Ctrl+/ (Windows/Linux) or Cmd+/ (Mac) to uncomment.\n",
    "\n",
    "\n",
    "\n",
    "history = model.fit(norm_train_X, train_Y,\n",
    "                    epochs = 180, validation_data=(norm_val_X, val_Y))"
   ]
  },
  {
   "cell_type": "code",
   "execution_count": 75,
   "metadata": {},
   "outputs": [],
   "source": [
    "#utils.test_history(history)"
   ]
  },
  {
   "cell_type": "code",
   "execution_count": 74,
   "metadata": {},
   "outputs": [
    {
     "name": "stdout",
     "output_type": "stream",
     "text": [
      "25/25 [==============================] - 0s 641us/step - loss: 0.3384 - wine_quality_loss: 0.3119 - wine_type_loss: 0.0265 - wine_quality_root_mean_squared_error: 0.5584 - wine_type_accuracy: 0.9949\n",
      "\n",
      "loss: 0.3383558988571167\n",
      "wine_quality_loss: 0.3118610382080078\n",
      "wine_type_loss: 0.026494905352592468\n",
      "wine_quality_rmse: 0.5584452152252197\n",
      "wine_type_accuracy: 0.9949302673339844\n"
     ]
    }
   ],
   "source": [
    "# Gather the training metrics\n",
    "loss, wine_quality_loss, wine_type_loss, wine_quality_rmse, wine_type_accuracy = model.evaluate(x=norm_val_X, y=val_Y)\n",
    "\n",
    "print()\n",
    "print(f'loss: {loss}')\n",
    "print(f'wine_quality_loss: {wine_quality_loss}')\n",
    "print(f'wine_type_loss: {wine_type_loss}')\n",
    "print(f'wine_quality_rmse: {wine_quality_rmse}')\n",
    "print(f'wine_type_accuracy: {wine_type_accuracy}')\n",
    "\n",
    "# EXPECTED VALUES\n",
    "# ~ 0.30 - 0.38\n",
    "# ~ 0.30 - 0.38\n",
    "# ~ 0.018 - 0.030\n",
    "# ~ 0.50 - 0.62\n",
    "# ~ 0.97 - 1.0\n",
    "\n",
    "# Example:\n",
    "#0.3657050132751465\n",
    "#0.3463745415210724\n",
    "#0.019330406561493874\n",
    "#0.5885359048843384\n",
    "#0.9974651336669922"
   ]
  },
  {
   "cell_type": "markdown",
   "metadata": {},
   "source": [
    "## Analyze the Model Performance\n",
    "\n",
    "Note that the model has two outputs. The output at index 0 is quality and index 1 is wine type\n",
    "\n",
    "So, round the quality predictions to the nearest integer."
   ]
  },
  {
   "cell_type": "code",
   "execution_count": 78,
   "metadata": {},
   "outputs": [],
   "source": [
    "predictions = model.predict(norm_test_X)\n",
    "quality_pred = predictions[0]\n",
    "type_pred = predictions[1]"
   ]
  },
  {
   "cell_type": "code",
   "execution_count": 79,
   "metadata": {},
   "outputs": [
    {
     "name": "stdout",
     "output_type": "stream",
     "text": [
      "[5.7301984]\n"
     ]
    }
   ],
   "source": [
    "print(quality_pred[0])\n",
    "\n",
    "# EXPECTED OUTPUT\n",
    "# 5.6 - 6.0"
   ]
  },
  {
   "cell_type": "code",
   "execution_count": 80,
   "metadata": {},
   "outputs": [
    {
     "name": "stdout",
     "output_type": "stream",
     "text": [
      "[0.00021961]\n",
      "[0.9999988]\n"
     ]
    }
   ],
   "source": [
    "print(type_pred[0])\n",
    "print(type_pred[944])\n",
    "\n",
    "# EXPECTED OUTPUT\n",
    "# A number close to zero\n",
    "# A number close to or equal to 1"
   ]
  },
  {
   "cell_type": "markdown",
   "metadata": {},
   "source": [
    "### Plot Utilities\n",
    "\n",
    "We define a few utilities to visualize the model performance."
   ]
  },
  {
   "cell_type": "code",
   "execution_count": 81,
   "metadata": {},
   "outputs": [],
   "source": [
    "def plot_metrics(metric_name, title, ylim=5):\n",
    "    plt.title(title)\n",
    "    plt.ylim(0,ylim)\n",
    "    plt.plot(history.history[metric_name],color='blue',label=metric_name)\n",
    "    plt.plot(history.history['val_' + metric_name],color='green',label='val_' + metric_name)\n"
   ]
  },
  {
   "cell_type": "code",
   "execution_count": 82,
   "metadata": {},
   "outputs": [],
   "source": [
    "def plot_confusion_matrix(y_true, y_pred, title='', labels=[0,1]):\n",
    "    cm = confusion_matrix(y_true, y_pred)\n",
    "    fig = plt.figure()\n",
    "    ax = fig.add_subplot(111)\n",
    "    cax = ax.matshow(cm)\n",
    "    plt.title('Confusion matrix of the classifier')\n",
    "    fig.colorbar(cax)\n",
    "    ax.set_xticklabels([''] + labels)\n",
    "    ax.set_yticklabels([''] + labels)\n",
    "    plt.xlabel('Predicted')\n",
    "    plt.ylabel('True')\n",
    "    fmt = 'd'\n",
    "    thresh = cm.max() / 2.\n",
    "    for i, j in itertools.product(range(cm.shape[0]), range(cm.shape[1])):\n",
    "          plt.text(j, i, format(cm[i, j], fmt),\n",
    "                  horizontalalignment=\"center\",\n",
    "                  color=\"black\" if cm[i, j] > thresh else \"white\")\n",
    "    plt.show()"
   ]
  },
  {
   "cell_type": "code",
   "execution_count": 83,
   "metadata": {},
   "outputs": [],
   "source": [
    "def plot_diff(y_true, y_pred, title = '' ):\n",
    "    plt.scatter(y_true, y_pred)\n",
    "    plt.title(title)\n",
    "    plt.xlabel('True Values')\n",
    "    plt.ylabel('Predictions')\n",
    "    plt.axis('equal')\n",
    "    plt.axis('square')\n",
    "    plt.plot([-100, 100], [-100, 100])\n",
    "    return plt"
   ]
  },
  {
   "cell_type": "markdown",
   "metadata": {},
   "source": [
    "### Plots for Metrics"
   ]
  },
  {
   "cell_type": "code",
   "execution_count": 84,
   "metadata": {},
   "outputs": [
    {
     "data": {
      "image/png": "[encoded data removed]",
      "text/plain": [
       "<Figure size 432x288 with 1 Axes>"
      ]
     },
     "metadata": {
      "needs_background": "light"
     },
     "output_type": "display_data"
    }
   ],
   "source": [
    "plot_metrics('wine_quality_root_mean_squared_error', 'RMSE', ylim=2)"
   ]
  },
  {
   "cell_type": "code",
   "execution_count": 85,
   "metadata": {},
   "outputs": [
    {
     "data": {
      "image/png": "[encoded data removed]",
      "text/plain": [
       "<Figure size 432x288 with 1 Axes>"
      ]
     },
     "metadata": {
      "needs_background": "light"
     },
     "output_type": "display_data"
    }
   ],
   "source": [
    "plot_metrics('wine_type_loss', 'Wine Type Loss', ylim=0.2)"
   ]
  },
  {
   "cell_type": "markdown",
   "metadata": {},
   "source": [
    "### Plots for Confusion Matrix\n",
    "\n",
    "Plot the confusion matrices for wine type. You can see that the model performs well for prediction of wine type from the confusion matrix and the loss metrics."
   ]
  },
  {
   "cell_type": "code",
   "execution_count": 86,
   "metadata": {},
   "outputs": [
    {
     "data": {
      "image/png": "[encoded data removed]",
      "text/plain": [
       "<Figure size 432x288 with 2 Axes>"
      ]
     },
     "metadata": {
      "needs_background": "light"
     },
     "output_type": "display_data"
    }
   ],
   "source": [
    "plot_confusion_matrix(test_Y[1], np.round(type_pred), title='Wine Type', labels = [0, 1])"
   ]
  },
  {
   "cell_type": "code",
   "execution_count": 87,
   "metadata": {},
   "outputs": [
    {
     "data": {
      "image/png": "[encoded data removed]",
      "text/plain": [
       "<Figure size 432x288 with 1 Axes>"
      ]
     },
     "metadata": {
      "needs_background": "light"
     },
     "output_type": "display_data"
    }
   ],
   "source": [
    "scatter_plot = plot_diff(test_Y[0], quality_pred, title='Type')"
   ]
  },
  {
   "cell_type": "code",
   "execution_count": null,
   "metadata": {},
   "outputs": [],
   "source": []
  }
 ],
 "metadata": {
  "kernelspec": {
   "display_name": "Python 3",
   "language": "python",
   "name": "python3"
  },
  "language_info": {
   "codemirror_mode": {
    "name": "ipython",
    "version": 3
   },
   "file_extension": ".py",
   "mimetype": "text/x-python",
   "name": "python",
   "nbconvert_exporter": "python",
   "pygments_lexer": "ipython3",
   "version": "3.8.3"
  }
 },
 "nbformat": 4,
 "nbformat_minor": 4
}
